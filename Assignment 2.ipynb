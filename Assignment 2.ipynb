{
  "nbformat": 4,
  "nbformat_minor": 0,
  "metadata": {
    "anaconda-cloud": {},
    "kernelspec": {
      "display_name": "Python 3.7.6 64-bit ('web_retrival': conda)",
      "language": "python",
      "name": "python37664bitwebretrivalconda118f0c154cda4ce99a57a6bb09423c4d"
    },
    "language_info": {
      "codemirror_mode": {
        "name": "ipython",
        "version": 3
      },
      "file_extension": ".py",
      "mimetype": "text/x-python",
      "name": "python",
      "nbconvert_exporter": "python",
      "pygments_lexer": "ipython3",
      "version": "3.7.6-final"
    },
    "colab": {
      "name": "Assignment 2.ipynb",
      "provenance": [],
      "collapsed_sections": [],
      "toc_visible": true
    },
    "accelerator": "GPU",
    "widgets": {
      "application/vnd.jupyter.widget-state+json": {
        "55966fb2170d40e19b3f703e668ccbf3": {
          "model_module": "@jupyter-widgets/controls",
          "model_name": "HBoxModel",
          "state": {
            "_view_name": "HBoxView",
            "_dom_classes": [],
            "_model_name": "HBoxModel",
            "_view_module": "@jupyter-widgets/controls",
            "_model_module_version": "1.5.0",
            "_view_count": null,
            "_view_module_version": "1.5.0",
            "box_style": "",
            "layout": "IPY_MODEL_5bea46deee9945a3b985cbadc357288d",
            "_model_module": "@jupyter-widgets/controls",
            "children": [
              "IPY_MODEL_94de9c2fda6340e6accc390248b17034",
              "IPY_MODEL_5adbb1224810401abebcf0ae0d47a33d"
            ]
          }
        },
        "5bea46deee9945a3b985cbadc357288d": {
          "model_module": "@jupyter-widgets/base",
          "model_name": "LayoutModel",
          "state": {
            "_view_name": "LayoutView",
            "grid_template_rows": null,
            "right": null,
            "justify_content": null,
            "_view_module": "@jupyter-widgets/base",
            "overflow": null,
            "_model_module_version": "1.2.0",
            "_view_count": null,
            "flex_flow": null,
            "width": null,
            "min_width": null,
            "border": null,
            "align_items": null,
            "bottom": null,
            "_model_module": "@jupyter-widgets/base",
            "top": null,
            "grid_column": null,
            "overflow_y": null,
            "overflow_x": null,
            "grid_auto_flow": null,
            "grid_area": null,
            "grid_template_columns": null,
            "flex": null,
            "_model_name": "LayoutModel",
            "justify_items": null,
            "grid_row": null,
            "max_height": null,
            "align_content": null,
            "visibility": null,
            "align_self": null,
            "height": null,
            "min_height": null,
            "padding": null,
            "grid_auto_rows": null,
            "grid_gap": null,
            "max_width": null,
            "order": null,
            "_view_module_version": "1.2.0",
            "grid_template_areas": null,
            "object_position": null,
            "object_fit": null,
            "grid_auto_columns": null,
            "margin": null,
            "display": null,
            "left": null
          }
        },
        "94de9c2fda6340e6accc390248b17034": {
          "model_module": "@jupyter-widgets/controls",
          "model_name": "IntProgressModel",
          "state": {
            "_view_name": "ProgressView",
            "style": "IPY_MODEL_62ee2ff725ae44e7bd5156dca2738376",
            "_dom_classes": [],
            "description": "model",
            "_model_name": "IntProgressModel",
            "bar_style": "success",
            "max": 3,
            "_view_module": "@jupyter-widgets/controls",
            "_model_module_version": "1.5.0",
            "value": 3,
            "_view_count": null,
            "_view_module_version": "1.5.0",
            "orientation": "horizontal",
            "min": 0,
            "description_tooltip": null,
            "_model_module": "@jupyter-widgets/controls",
            "layout": "IPY_MODEL_152042807e3f43b6ba37c09da6687128"
          }
        },
        "5adbb1224810401abebcf0ae0d47a33d": {
          "model_module": "@jupyter-widgets/controls",
          "model_name": "HTMLModel",
          "state": {
            "_view_name": "HTMLView",
            "style": "IPY_MODEL_5927364948104bbfb2a37bafaa1c7c01",
            "_dom_classes": [],
            "description": "",
            "_model_name": "HTMLModel",
            "placeholder": "​",
            "_view_module": "@jupyter-widgets/controls",
            "_model_module_version": "1.5.0",
            "value": "100% 3/3 [01:37&lt;00:00, 23.86s/it]",
            "_view_count": null,
            "_view_module_version": "1.5.0",
            "description_tooltip": null,
            "_model_module": "@jupyter-widgets/controls",
            "layout": "IPY_MODEL_cf4aa84dbdcf4b82a1fe7c97e8509312"
          }
        },
        "62ee2ff725ae44e7bd5156dca2738376": {
          "model_module": "@jupyter-widgets/controls",
          "model_name": "ProgressStyleModel",
          "state": {
            "_view_name": "StyleView",
            "_model_name": "ProgressStyleModel",
            "description_width": "initial",
            "_view_module": "@jupyter-widgets/base",
            "_model_module_version": "1.5.0",
            "_view_count": null,
            "_view_module_version": "1.2.0",
            "bar_color": null,
            "_model_module": "@jupyter-widgets/controls"
          }
        },
        "152042807e3f43b6ba37c09da6687128": {
          "model_module": "@jupyter-widgets/base",
          "model_name": "LayoutModel",
          "state": {
            "_view_name": "LayoutView",
            "grid_template_rows": null,
            "right": null,
            "justify_content": null,
            "_view_module": "@jupyter-widgets/base",
            "overflow": null,
            "_model_module_version": "1.2.0",
            "_view_count": null,
            "flex_flow": null,
            "width": null,
            "min_width": null,
            "border": null,
            "align_items": null,
            "bottom": null,
            "_model_module": "@jupyter-widgets/base",
            "top": null,
            "grid_column": null,
            "overflow_y": null,
            "overflow_x": null,
            "grid_auto_flow": null,
            "grid_area": null,
            "grid_template_columns": null,
            "flex": null,
            "_model_name": "LayoutModel",
            "justify_items": null,
            "grid_row": null,
            "max_height": null,
            "align_content": null,
            "visibility": null,
            "align_self": null,
            "height": null,
            "min_height": null,
            "padding": null,
            "grid_auto_rows": null,
            "grid_gap": null,
            "max_width": null,
            "order": null,
            "_view_module_version": "1.2.0",
            "grid_template_areas": null,
            "object_position": null,
            "object_fit": null,
            "grid_auto_columns": null,
            "margin": null,
            "display": null,
            "left": null
          }
        },
        "5927364948104bbfb2a37bafaa1c7c01": {
          "model_module": "@jupyter-widgets/controls",
          "model_name": "DescriptionStyleModel",
          "state": {
            "_view_name": "StyleView",
            "_model_name": "DescriptionStyleModel",
            "description_width": "",
            "_view_module": "@jupyter-widgets/base",
            "_model_module_version": "1.5.0",
            "_view_count": null,
            "_view_module_version": "1.2.0",
            "_model_module": "@jupyter-widgets/controls"
          }
        },
        "cf4aa84dbdcf4b82a1fe7c97e8509312": {
          "model_module": "@jupyter-widgets/base",
          "model_name": "LayoutModel",
          "state": {
            "_view_name": "LayoutView",
            "grid_template_rows": null,
            "right": null,
            "justify_content": null,
            "_view_module": "@jupyter-widgets/base",
            "overflow": null,
            "_model_module_version": "1.2.0",
            "_view_count": null,
            "flex_flow": null,
            "width": null,
            "min_width": null,
            "border": null,
            "align_items": null,
            "bottom": null,
            "_model_module": "@jupyter-widgets/base",
            "top": null,
            "grid_column": null,
            "overflow_y": null,
            "overflow_x": null,
            "grid_auto_flow": null,
            "grid_area": null,
            "grid_template_columns": null,
            "flex": null,
            "_model_name": "LayoutModel",
            "justify_items": null,
            "grid_row": null,
            "max_height": null,
            "align_content": null,
            "visibility": null,
            "align_self": null,
            "height": null,
            "min_height": null,
            "padding": null,
            "grid_auto_rows": null,
            "grid_gap": null,
            "max_width": null,
            "order": null,
            "_view_module_version": "1.2.0",
            "grid_template_areas": null,
            "object_position": null,
            "object_fit": null,
            "grid_auto_columns": null,
            "margin": null,
            "display": null,
            "left": null
          }
        },
        "d5a991bf9932485784b27ccb7c196a5e": {
          "model_module": "@jupyter-widgets/controls",
          "model_name": "HBoxModel",
          "state": {
            "_view_name": "HBoxView",
            "_dom_classes": [],
            "_model_name": "HBoxModel",
            "_view_module": "@jupyter-widgets/controls",
            "_model_module_version": "1.5.0",
            "_view_count": null,
            "_view_module_version": "1.5.0",
            "box_style": "",
            "layout": "IPY_MODEL_da404140c2bc4d26827cec3540694ced",
            "_model_module": "@jupyter-widgets/controls",
            "children": [
              "IPY_MODEL_c82a2fefd8904039af2219c189b4f2f8",
              "IPY_MODEL_4cf77ede4290485ebe13fb8c25cf7c91"
            ]
          }
        },
        "da404140c2bc4d26827cec3540694ced": {
          "model_module": "@jupyter-widgets/base",
          "model_name": "LayoutModel",
          "state": {
            "_view_name": "LayoutView",
            "grid_template_rows": null,
            "right": null,
            "justify_content": null,
            "_view_module": "@jupyter-widgets/base",
            "overflow": null,
            "_model_module_version": "1.2.0",
            "_view_count": null,
            "flex_flow": null,
            "width": null,
            "min_width": null,
            "border": null,
            "align_items": null,
            "bottom": null,
            "_model_module": "@jupyter-widgets/base",
            "top": null,
            "grid_column": null,
            "overflow_y": null,
            "overflow_x": null,
            "grid_auto_flow": null,
            "grid_area": null,
            "grid_template_columns": null,
            "flex": null,
            "_model_name": "LayoutModel",
            "justify_items": null,
            "grid_row": null,
            "max_height": null,
            "align_content": null,
            "visibility": null,
            "align_self": null,
            "height": null,
            "min_height": null,
            "padding": null,
            "grid_auto_rows": null,
            "grid_gap": null,
            "max_width": null,
            "order": null,
            "_view_module_version": "1.2.0",
            "grid_template_areas": null,
            "object_position": null,
            "object_fit": null,
            "grid_auto_columns": null,
            "margin": null,
            "display": null,
            "left": null
          }
        },
        "c82a2fefd8904039af2219c189b4f2f8": {
          "model_module": "@jupyter-widgets/controls",
          "model_name": "IntProgressModel",
          "state": {
            "_view_name": "ProgressView",
            "style": "IPY_MODEL_9592f070b56744d1993ac65d43ee3a76",
            "_dom_classes": [],
            "description": "scaler",
            "_model_name": "IntProgressModel",
            "bar_style": "",
            "max": 4,
            "_view_module": "@jupyter-widgets/controls",
            "_model_module_version": "1.5.0",
            "value": 4,
            "_view_count": null,
            "_view_module_version": "1.5.0",
            "orientation": "horizontal",
            "min": 0,
            "description_tooltip": null,
            "_model_module": "@jupyter-widgets/controls",
            "layout": "IPY_MODEL_74c0378f0a214285adcc25beed4627b9"
          }
        },
        "4cf77ede4290485ebe13fb8c25cf7c91": {
          "model_module": "@jupyter-widgets/controls",
          "model_name": "HTMLModel",
          "state": {
            "_view_name": "HTMLView",
            "style": "IPY_MODEL_f92b52a512824fc69680ce5a6c45117e",
            "_dom_classes": [],
            "description": "",
            "_model_name": "HTMLModel",
            "placeholder": "​",
            "_view_module": "@jupyter-widgets/controls",
            "_model_module_version": "1.5.0",
            "value": "100% 4/4 [00:06&lt;00:00,  1.66s/it]",
            "_view_count": null,
            "_view_module_version": "1.5.0",
            "description_tooltip": null,
            "_model_module": "@jupyter-widgets/controls",
            "layout": "IPY_MODEL_06861d1837b64e2f9cdaba4afc9ebadc"
          }
        },
        "9592f070b56744d1993ac65d43ee3a76": {
          "model_module": "@jupyter-widgets/controls",
          "model_name": "ProgressStyleModel",
          "state": {
            "_view_name": "StyleView",
            "_model_name": "ProgressStyleModel",
            "description_width": "initial",
            "_view_module": "@jupyter-widgets/base",
            "_model_module_version": "1.5.0",
            "_view_count": null,
            "_view_module_version": "1.2.0",
            "bar_color": null,
            "_model_module": "@jupyter-widgets/controls"
          }
        },
        "74c0378f0a214285adcc25beed4627b9": {
          "model_module": "@jupyter-widgets/base",
          "model_name": "LayoutModel",
          "state": {
            "_view_name": "LayoutView",
            "grid_template_rows": null,
            "right": null,
            "justify_content": null,
            "_view_module": "@jupyter-widgets/base",
            "overflow": null,
            "_model_module_version": "1.2.0",
            "_view_count": null,
            "flex_flow": null,
            "width": null,
            "min_width": null,
            "border": null,
            "align_items": null,
            "bottom": null,
            "_model_module": "@jupyter-widgets/base",
            "top": null,
            "grid_column": null,
            "overflow_y": null,
            "overflow_x": null,
            "grid_auto_flow": null,
            "grid_area": null,
            "grid_template_columns": null,
            "flex": null,
            "_model_name": "LayoutModel",
            "justify_items": null,
            "grid_row": null,
            "max_height": null,
            "align_content": null,
            "visibility": null,
            "align_self": null,
            "height": null,
            "min_height": null,
            "padding": null,
            "grid_auto_rows": null,
            "grid_gap": null,
            "max_width": null,
            "order": null,
            "_view_module_version": "1.2.0",
            "grid_template_areas": null,
            "object_position": null,
            "object_fit": null,
            "grid_auto_columns": null,
            "margin": null,
            "display": null,
            "left": null
          }
        },
        "f92b52a512824fc69680ce5a6c45117e": {
          "model_module": "@jupyter-widgets/controls",
          "model_name": "DescriptionStyleModel",
          "state": {
            "_view_name": "StyleView",
            "_model_name": "DescriptionStyleModel",
            "description_width": "",
            "_view_module": "@jupyter-widgets/base",
            "_model_module_version": "1.5.0",
            "_view_count": null,
            "_view_module_version": "1.2.0",
            "_model_module": "@jupyter-widgets/controls"
          }
        },
        "06861d1837b64e2f9cdaba4afc9ebadc": {
          "model_module": "@jupyter-widgets/base",
          "model_name": "LayoutModel",
          "state": {
            "_view_name": "LayoutView",
            "grid_template_rows": null,
            "right": null,
            "justify_content": null,
            "_view_module": "@jupyter-widgets/base",
            "overflow": null,
            "_model_module_version": "1.2.0",
            "_view_count": null,
            "flex_flow": null,
            "width": null,
            "min_width": null,
            "border": null,
            "align_items": null,
            "bottom": null,
            "_model_module": "@jupyter-widgets/base",
            "top": null,
            "grid_column": null,
            "overflow_y": null,
            "overflow_x": null,
            "grid_auto_flow": null,
            "grid_area": null,
            "grid_template_columns": null,
            "flex": null,
            "_model_name": "LayoutModel",
            "justify_items": null,
            "grid_row": null,
            "max_height": null,
            "align_content": null,
            "visibility": null,
            "align_self": null,
            "height": null,
            "min_height": null,
            "padding": null,
            "grid_auto_rows": null,
            "grid_gap": null,
            "max_width": null,
            "order": null,
            "_view_module_version": "1.2.0",
            "grid_template_areas": null,
            "object_position": null,
            "object_fit": null,
            "grid_auto_columns": null,
            "margin": null,
            "display": null,
            "left": null
          }
        },
        "3acec06932d94858853ec79ca528890a": {
          "model_module": "@jupyter-widgets/controls",
          "model_name": "HBoxModel",
          "state": {
            "_view_name": "HBoxView",
            "_dom_classes": [],
            "_model_name": "HBoxModel",
            "_view_module": "@jupyter-widgets/controls",
            "_model_module_version": "1.5.0",
            "_view_count": null,
            "_view_module_version": "1.5.0",
            "box_style": "",
            "layout": "IPY_MODEL_b85506392856452ba2c04f328f1f23c5",
            "_model_module": "@jupyter-widgets/controls",
            "children": [
              "IPY_MODEL_fe4e2880a8c64f07bec8f3ea6af27a31",
              "IPY_MODEL_7132265e0fee48e7bc94f9f67e6110af"
            ]
          }
        },
        "b85506392856452ba2c04f328f1f23c5": {
          "model_module": "@jupyter-widgets/base",
          "model_name": "LayoutModel",
          "state": {
            "_view_name": "LayoutView",
            "grid_template_rows": null,
            "right": null,
            "justify_content": null,
            "_view_module": "@jupyter-widgets/base",
            "overflow": null,
            "_model_module_version": "1.2.0",
            "_view_count": null,
            "flex_flow": null,
            "width": null,
            "min_width": null,
            "border": null,
            "align_items": null,
            "bottom": null,
            "_model_module": "@jupyter-widgets/base",
            "top": null,
            "grid_column": null,
            "overflow_y": null,
            "overflow_x": null,
            "grid_auto_flow": null,
            "grid_area": null,
            "grid_template_columns": null,
            "flex": null,
            "_model_name": "LayoutModel",
            "justify_items": null,
            "grid_row": null,
            "max_height": null,
            "align_content": null,
            "visibility": null,
            "align_self": null,
            "height": null,
            "min_height": null,
            "padding": null,
            "grid_auto_rows": null,
            "grid_gap": null,
            "max_width": null,
            "order": null,
            "_view_module_version": "1.2.0",
            "grid_template_areas": null,
            "object_position": null,
            "object_fit": null,
            "grid_auto_columns": null,
            "margin": null,
            "display": null,
            "left": null
          }
        },
        "fe4e2880a8c64f07bec8f3ea6af27a31": {
          "model_module": "@jupyter-widgets/controls",
          "model_name": "IntProgressModel",
          "state": {
            "_view_name": "ProgressView",
            "style": "IPY_MODEL_64d543bfb95c491fb59ca99765f07516",
            "_dom_classes": [],
            "description": "scaler",
            "_model_name": "IntProgressModel",
            "bar_style": "",
            "max": 4,
            "_view_module": "@jupyter-widgets/controls",
            "_model_module_version": "1.5.0",
            "value": 4,
            "_view_count": null,
            "_view_module_version": "1.5.0",
            "orientation": "horizontal",
            "min": 0,
            "description_tooltip": null,
            "_model_module": "@jupyter-widgets/controls",
            "layout": "IPY_MODEL_f91d227ef31b4f4cbd742ef1e38c1591"
          }
        },
        "7132265e0fee48e7bc94f9f67e6110af": {
          "model_module": "@jupyter-widgets/controls",
          "model_name": "HTMLModel",
          "state": {
            "_view_name": "HTMLView",
            "style": "IPY_MODEL_442e9ae56bae4005b0dfc6c9290b0c5c",
            "_dom_classes": [],
            "description": "",
            "_model_name": "HTMLModel",
            "placeholder": "​",
            "_view_module": "@jupyter-widgets/controls",
            "_model_module_version": "1.5.0",
            "value": "100% 4/4 [01:11&lt;00:00, 17.87s/it]",
            "_view_count": null,
            "_view_module_version": "1.5.0",
            "description_tooltip": null,
            "_model_module": "@jupyter-widgets/controls",
            "layout": "IPY_MODEL_7b0073afdad44fd99d3d818c04c3af77"
          }
        },
        "64d543bfb95c491fb59ca99765f07516": {
          "model_module": "@jupyter-widgets/controls",
          "model_name": "ProgressStyleModel",
          "state": {
            "_view_name": "StyleView",
            "_model_name": "ProgressStyleModel",
            "description_width": "initial",
            "_view_module": "@jupyter-widgets/base",
            "_model_module_version": "1.5.0",
            "_view_count": null,
            "_view_module_version": "1.2.0",
            "bar_color": null,
            "_model_module": "@jupyter-widgets/controls"
          }
        },
        "f91d227ef31b4f4cbd742ef1e38c1591": {
          "model_module": "@jupyter-widgets/base",
          "model_name": "LayoutModel",
          "state": {
            "_view_name": "LayoutView",
            "grid_template_rows": null,
            "right": null,
            "justify_content": null,
            "_view_module": "@jupyter-widgets/base",
            "overflow": null,
            "_model_module_version": "1.2.0",
            "_view_count": null,
            "flex_flow": null,
            "width": null,
            "min_width": null,
            "border": null,
            "align_items": null,
            "bottom": null,
            "_model_module": "@jupyter-widgets/base",
            "top": null,
            "grid_column": null,
            "overflow_y": null,
            "overflow_x": null,
            "grid_auto_flow": null,
            "grid_area": null,
            "grid_template_columns": null,
            "flex": null,
            "_model_name": "LayoutModel",
            "justify_items": null,
            "grid_row": null,
            "max_height": null,
            "align_content": null,
            "visibility": null,
            "align_self": null,
            "height": null,
            "min_height": null,
            "padding": null,
            "grid_auto_rows": null,
            "grid_gap": null,
            "max_width": null,
            "order": null,
            "_view_module_version": "1.2.0",
            "grid_template_areas": null,
            "object_position": null,
            "object_fit": null,
            "grid_auto_columns": null,
            "margin": null,
            "display": null,
            "left": null
          }
        },
        "442e9ae56bae4005b0dfc6c9290b0c5c": {
          "model_module": "@jupyter-widgets/controls",
          "model_name": "DescriptionStyleModel",
          "state": {
            "_view_name": "StyleView",
            "_model_name": "DescriptionStyleModel",
            "description_width": "",
            "_view_module": "@jupyter-widgets/base",
            "_model_module_version": "1.5.0",
            "_view_count": null,
            "_view_module_version": "1.2.0",
            "_model_module": "@jupyter-widgets/controls"
          }
        },
        "7b0073afdad44fd99d3d818c04c3af77": {
          "model_module": "@jupyter-widgets/base",
          "model_name": "LayoutModel",
          "state": {
            "_view_name": "LayoutView",
            "grid_template_rows": null,
            "right": null,
            "justify_content": null,
            "_view_module": "@jupyter-widgets/base",
            "overflow": null,
            "_model_module_version": "1.2.0",
            "_view_count": null,
            "flex_flow": null,
            "width": null,
            "min_width": null,
            "border": null,
            "align_items": null,
            "bottom": null,
            "_model_module": "@jupyter-widgets/base",
            "top": null,
            "grid_column": null,
            "overflow_y": null,
            "overflow_x": null,
            "grid_auto_flow": null,
            "grid_area": null,
            "grid_template_columns": null,
            "flex": null,
            "_model_name": "LayoutModel",
            "justify_items": null,
            "grid_row": null,
            "max_height": null,
            "align_content": null,
            "visibility": null,
            "align_self": null,
            "height": null,
            "min_height": null,
            "padding": null,
            "grid_auto_rows": null,
            "grid_gap": null,
            "max_width": null,
            "order": null,
            "_view_module_version": "1.2.0",
            "grid_template_areas": null,
            "object_position": null,
            "object_fit": null,
            "grid_auto_columns": null,
            "margin": null,
            "display": null,
            "left": null
          }
        },
        "3f1220f5b2084e529e6e9a1eeb43ddd7": {
          "model_module": "@jupyter-widgets/controls",
          "model_name": "HBoxModel",
          "state": {
            "_view_name": "HBoxView",
            "_dom_classes": [],
            "_model_name": "HBoxModel",
            "_view_module": "@jupyter-widgets/controls",
            "_model_module_version": "1.5.0",
            "_view_count": null,
            "_view_module_version": "1.5.0",
            "box_style": "",
            "layout": "IPY_MODEL_978eaf3379b84b4f9e0dc276ae200ec2",
            "_model_module": "@jupyter-widgets/controls",
            "children": [
              "IPY_MODEL_ff6a7a5950d145d9b86fc677f0054940",
              "IPY_MODEL_951c3a95428b4b31a2af1c75eec60d33"
            ]
          }
        },
        "978eaf3379b84b4f9e0dc276ae200ec2": {
          "model_module": "@jupyter-widgets/base",
          "model_name": "LayoutModel",
          "state": {
            "_view_name": "LayoutView",
            "grid_template_rows": null,
            "right": null,
            "justify_content": null,
            "_view_module": "@jupyter-widgets/base",
            "overflow": null,
            "_model_module_version": "1.2.0",
            "_view_count": null,
            "flex_flow": null,
            "width": null,
            "min_width": null,
            "border": null,
            "align_items": null,
            "bottom": null,
            "_model_module": "@jupyter-widgets/base",
            "top": null,
            "grid_column": null,
            "overflow_y": null,
            "overflow_x": null,
            "grid_auto_flow": null,
            "grid_area": null,
            "grid_template_columns": null,
            "flex": null,
            "_model_name": "LayoutModel",
            "justify_items": null,
            "grid_row": null,
            "max_height": null,
            "align_content": null,
            "visibility": null,
            "align_self": null,
            "height": null,
            "min_height": null,
            "padding": null,
            "grid_auto_rows": null,
            "grid_gap": null,
            "max_width": null,
            "order": null,
            "_view_module_version": "1.2.0",
            "grid_template_areas": null,
            "object_position": null,
            "object_fit": null,
            "grid_auto_columns": null,
            "margin": null,
            "display": null,
            "left": null
          }
        },
        "ff6a7a5950d145d9b86fc677f0054940": {
          "model_module": "@jupyter-widgets/controls",
          "model_name": "IntProgressModel",
          "state": {
            "_view_name": "ProgressView",
            "style": "IPY_MODEL_e7d29ce8642c42b3aa5f94464a8dab47",
            "_dom_classes": [],
            "description": "scaler",
            "_model_name": "IntProgressModel",
            "bar_style": "",
            "max": 4,
            "_view_module": "@jupyter-widgets/controls",
            "_model_module_version": "1.5.0",
            "value": 4,
            "_view_count": null,
            "_view_module_version": "1.5.0",
            "orientation": "horizontal",
            "min": 0,
            "description_tooltip": null,
            "_model_module": "@jupyter-widgets/controls",
            "layout": "IPY_MODEL_baeb5bf504d046a49ec00c92126ba56c"
          }
        },
        "951c3a95428b4b31a2af1c75eec60d33": {
          "model_module": "@jupyter-widgets/controls",
          "model_name": "HTMLModel",
          "state": {
            "_view_name": "HTMLView",
            "style": "IPY_MODEL_efbaff3156134294a5e94103716ec5e7",
            "_dom_classes": [],
            "description": "",
            "_model_name": "HTMLModel",
            "placeholder": "​",
            "_view_module": "@jupyter-widgets/controls",
            "_model_module_version": "1.5.0",
            "value": "100% 4/4 [00:18&lt;00:00,  4.72s/it]",
            "_view_count": null,
            "_view_module_version": "1.5.0",
            "description_tooltip": null,
            "_model_module": "@jupyter-widgets/controls",
            "layout": "IPY_MODEL_70d3be9b45b04c02be868a85f20e838d"
          }
        },
        "e7d29ce8642c42b3aa5f94464a8dab47": {
          "model_module": "@jupyter-widgets/controls",
          "model_name": "ProgressStyleModel",
          "state": {
            "_view_name": "StyleView",
            "_model_name": "ProgressStyleModel",
            "description_width": "initial",
            "_view_module": "@jupyter-widgets/base",
            "_model_module_version": "1.5.0",
            "_view_count": null,
            "_view_module_version": "1.2.0",
            "bar_color": null,
            "_model_module": "@jupyter-widgets/controls"
          }
        },
        "baeb5bf504d046a49ec00c92126ba56c": {
          "model_module": "@jupyter-widgets/base",
          "model_name": "LayoutModel",
          "state": {
            "_view_name": "LayoutView",
            "grid_template_rows": null,
            "right": null,
            "justify_content": null,
            "_view_module": "@jupyter-widgets/base",
            "overflow": null,
            "_model_module_version": "1.2.0",
            "_view_count": null,
            "flex_flow": null,
            "width": null,
            "min_width": null,
            "border": null,
            "align_items": null,
            "bottom": null,
            "_model_module": "@jupyter-widgets/base",
            "top": null,
            "grid_column": null,
            "overflow_y": null,
            "overflow_x": null,
            "grid_auto_flow": null,
            "grid_area": null,
            "grid_template_columns": null,
            "flex": null,
            "_model_name": "LayoutModel",
            "justify_items": null,
            "grid_row": null,
            "max_height": null,
            "align_content": null,
            "visibility": null,
            "align_self": null,
            "height": null,
            "min_height": null,
            "padding": null,
            "grid_auto_rows": null,
            "grid_gap": null,
            "max_width": null,
            "order": null,
            "_view_module_version": "1.2.0",
            "grid_template_areas": null,
            "object_position": null,
            "object_fit": null,
            "grid_auto_columns": null,
            "margin": null,
            "display": null,
            "left": null
          }
        },
        "efbaff3156134294a5e94103716ec5e7": {
          "model_module": "@jupyter-widgets/controls",
          "model_name": "DescriptionStyleModel",
          "state": {
            "_view_name": "StyleView",
            "_model_name": "DescriptionStyleModel",
            "description_width": "",
            "_view_module": "@jupyter-widgets/base",
            "_model_module_version": "1.5.0",
            "_view_count": null,
            "_view_module_version": "1.2.0",
            "_model_module": "@jupyter-widgets/controls"
          }
        },
        "70d3be9b45b04c02be868a85f20e838d": {
          "model_module": "@jupyter-widgets/base",
          "model_name": "LayoutModel",
          "state": {
            "_view_name": "LayoutView",
            "grid_template_rows": null,
            "right": null,
            "justify_content": null,
            "_view_module": "@jupyter-widgets/base",
            "overflow": null,
            "_model_module_version": "1.2.0",
            "_view_count": null,
            "flex_flow": null,
            "width": null,
            "min_width": null,
            "border": null,
            "align_items": null,
            "bottom": null,
            "_model_module": "@jupyter-widgets/base",
            "top": null,
            "grid_column": null,
            "overflow_y": null,
            "overflow_x": null,
            "grid_auto_flow": null,
            "grid_area": null,
            "grid_template_columns": null,
            "flex": null,
            "_model_name": "LayoutModel",
            "justify_items": null,
            "grid_row": null,
            "max_height": null,
            "align_content": null,
            "visibility": null,
            "align_self": null,
            "height": null,
            "min_height": null,
            "padding": null,
            "grid_auto_rows": null,
            "grid_gap": null,
            "max_width": null,
            "order": null,
            "_view_module_version": "1.2.0",
            "grid_template_areas": null,
            "object_position": null,
            "object_fit": null,
            "grid_auto_columns": null,
            "margin": null,
            "display": null,
            "left": null
          }
        },
        "612fc0a8d83b4fd48553023e570435d0": {
          "model_module": "@jupyter-widgets/controls",
          "model_name": "HBoxModel",
          "state": {
            "_view_name": "HBoxView",
            "_dom_classes": [],
            "_model_name": "HBoxModel",
            "_view_module": "@jupyter-widgets/controls",
            "_model_module_version": "1.5.0",
            "_view_count": null,
            "_view_module_version": "1.5.0",
            "box_style": "",
            "layout": "IPY_MODEL_8c5cb2b8e7764835aa3e0a4deffed7e8",
            "_model_module": "@jupyter-widgets/controls",
            "children": [
              "IPY_MODEL_0e1eaf54f9254a6994d1a3bb61854c8e",
              "IPY_MODEL_2bf838611a1e489c823860f2cf85f242"
            ]
          }
        },
        "8c5cb2b8e7764835aa3e0a4deffed7e8": {
          "model_module": "@jupyter-widgets/base",
          "model_name": "LayoutModel",
          "state": {
            "_view_name": "LayoutView",
            "grid_template_rows": null,
            "right": null,
            "justify_content": null,
            "_view_module": "@jupyter-widgets/base",
            "overflow": null,
            "_model_module_version": "1.2.0",
            "_view_count": null,
            "flex_flow": null,
            "width": null,
            "min_width": null,
            "border": null,
            "align_items": null,
            "bottom": null,
            "_model_module": "@jupyter-widgets/base",
            "top": null,
            "grid_column": null,
            "overflow_y": null,
            "overflow_x": null,
            "grid_auto_flow": null,
            "grid_area": null,
            "grid_template_columns": null,
            "flex": null,
            "_model_name": "LayoutModel",
            "justify_items": null,
            "grid_row": null,
            "max_height": null,
            "align_content": null,
            "visibility": null,
            "align_self": null,
            "height": null,
            "min_height": null,
            "padding": null,
            "grid_auto_rows": null,
            "grid_gap": null,
            "max_width": null,
            "order": null,
            "_view_module_version": "1.2.0",
            "grid_template_areas": null,
            "object_position": null,
            "object_fit": null,
            "grid_auto_columns": null,
            "margin": null,
            "display": null,
            "left": null
          }
        },
        "0e1eaf54f9254a6994d1a3bb61854c8e": {
          "model_module": "@jupyter-widgets/controls",
          "model_name": "IntProgressModel",
          "state": {
            "_view_name": "ProgressView",
            "style": "IPY_MODEL_8ea7be8650374c9e9a6499e89e90c5f1",
            "_dom_classes": [],
            "description": "model",
            "_model_name": "IntProgressModel",
            "bar_style": "success",
            "max": 3,
            "_view_module": "@jupyter-widgets/controls",
            "_model_module_version": "1.5.0",
            "value": 3,
            "_view_count": null,
            "_view_module_version": "1.5.0",
            "orientation": "horizontal",
            "min": 0,
            "description_tooltip": null,
            "_model_module": "@jupyter-widgets/controls",
            "layout": "IPY_MODEL_7eec23633c134dc39b8dc7fe420699db"
          }
        },
        "2bf838611a1e489c823860f2cf85f242": {
          "model_module": "@jupyter-widgets/controls",
          "model_name": "HTMLModel",
          "state": {
            "_view_name": "HTMLView",
            "style": "IPY_MODEL_2739950649d54f51863b8af9195f929f",
            "_dom_classes": [],
            "description": "",
            "_model_name": "HTMLModel",
            "placeholder": "​",
            "_view_module": "@jupyter-widgets/controls",
            "_model_module_version": "1.5.0",
            "value": "100% 3/3 [00:33&lt;00:00,  8.43s/it]",
            "_view_count": null,
            "_view_module_version": "1.5.0",
            "description_tooltip": null,
            "_model_module": "@jupyter-widgets/controls",
            "layout": "IPY_MODEL_9ea44514f8344f72b68786e0feed0ffb"
          }
        },
        "8ea7be8650374c9e9a6499e89e90c5f1": {
          "model_module": "@jupyter-widgets/controls",
          "model_name": "ProgressStyleModel",
          "state": {
            "_view_name": "StyleView",
            "_model_name": "ProgressStyleModel",
            "description_width": "initial",
            "_view_module": "@jupyter-widgets/base",
            "_model_module_version": "1.5.0",
            "_view_count": null,
            "_view_module_version": "1.2.0",
            "bar_color": null,
            "_model_module": "@jupyter-widgets/controls"
          }
        },
        "7eec23633c134dc39b8dc7fe420699db": {
          "model_module": "@jupyter-widgets/base",
          "model_name": "LayoutModel",
          "state": {
            "_view_name": "LayoutView",
            "grid_template_rows": null,
            "right": null,
            "justify_content": null,
            "_view_module": "@jupyter-widgets/base",
            "overflow": null,
            "_model_module_version": "1.2.0",
            "_view_count": null,
            "flex_flow": null,
            "width": null,
            "min_width": null,
            "border": null,
            "align_items": null,
            "bottom": null,
            "_model_module": "@jupyter-widgets/base",
            "top": null,
            "grid_column": null,
            "overflow_y": null,
            "overflow_x": null,
            "grid_auto_flow": null,
            "grid_area": null,
            "grid_template_columns": null,
            "flex": null,
            "_model_name": "LayoutModel",
            "justify_items": null,
            "grid_row": null,
            "max_height": null,
            "align_content": null,
            "visibility": null,
            "align_self": null,
            "height": null,
            "min_height": null,
            "padding": null,
            "grid_auto_rows": null,
            "grid_gap": null,
            "max_width": null,
            "order": null,
            "_view_module_version": "1.2.0",
            "grid_template_areas": null,
            "object_position": null,
            "object_fit": null,
            "grid_auto_columns": null,
            "margin": null,
            "display": null,
            "left": null
          }
        },
        "2739950649d54f51863b8af9195f929f": {
          "model_module": "@jupyter-widgets/controls",
          "model_name": "DescriptionStyleModel",
          "state": {
            "_view_name": "StyleView",
            "_model_name": "DescriptionStyleModel",
            "description_width": "",
            "_view_module": "@jupyter-widgets/base",
            "_model_module_version": "1.5.0",
            "_view_count": null,
            "_view_module_version": "1.2.0",
            "_model_module": "@jupyter-widgets/controls"
          }
        },
        "9ea44514f8344f72b68786e0feed0ffb": {
          "model_module": "@jupyter-widgets/base",
          "model_name": "LayoutModel",
          "state": {
            "_view_name": "LayoutView",
            "grid_template_rows": null,
            "right": null,
            "justify_content": null,
            "_view_module": "@jupyter-widgets/base",
            "overflow": null,
            "_model_module_version": "1.2.0",
            "_view_count": null,
            "flex_flow": null,
            "width": null,
            "min_width": null,
            "border": null,
            "align_items": null,
            "bottom": null,
            "_model_module": "@jupyter-widgets/base",
            "top": null,
            "grid_column": null,
            "overflow_y": null,
            "overflow_x": null,
            "grid_auto_flow": null,
            "grid_area": null,
            "grid_template_columns": null,
            "flex": null,
            "_model_name": "LayoutModel",
            "justify_items": null,
            "grid_row": null,
            "max_height": null,
            "align_content": null,
            "visibility": null,
            "align_self": null,
            "height": null,
            "min_height": null,
            "padding": null,
            "grid_auto_rows": null,
            "grid_gap": null,
            "max_width": null,
            "order": null,
            "_view_module_version": "1.2.0",
            "grid_template_areas": null,
            "object_position": null,
            "object_fit": null,
            "grid_auto_columns": null,
            "margin": null,
            "display": null,
            "left": null
          }
        },
        "8e17fb674463435da692786b64e17500": {
          "model_module": "@jupyter-widgets/controls",
          "model_name": "HBoxModel",
          "state": {
            "_view_name": "HBoxView",
            "_dom_classes": [],
            "_model_name": "HBoxModel",
            "_view_module": "@jupyter-widgets/controls",
            "_model_module_version": "1.5.0",
            "_view_count": null,
            "_view_module_version": "1.5.0",
            "box_style": "",
            "layout": "IPY_MODEL_db5e73ee58cf46b8a372c6911c63ee3c",
            "_model_module": "@jupyter-widgets/controls",
            "children": [
              "IPY_MODEL_455d7eafdb7e4c87b8b8b7417b9e5e8d",
              "IPY_MODEL_95844a1ee11d4bd3be44681a1661f2ee"
            ]
          }
        },
        "db5e73ee58cf46b8a372c6911c63ee3c": {
          "model_module": "@jupyter-widgets/base",
          "model_name": "LayoutModel",
          "state": {
            "_view_name": "LayoutView",
            "grid_template_rows": null,
            "right": null,
            "justify_content": null,
            "_view_module": "@jupyter-widgets/base",
            "overflow": null,
            "_model_module_version": "1.2.0",
            "_view_count": null,
            "flex_flow": null,
            "width": null,
            "min_width": null,
            "border": null,
            "align_items": null,
            "bottom": null,
            "_model_module": "@jupyter-widgets/base",
            "top": null,
            "grid_column": null,
            "overflow_y": null,
            "overflow_x": null,
            "grid_auto_flow": null,
            "grid_area": null,
            "grid_template_columns": null,
            "flex": null,
            "_model_name": "LayoutModel",
            "justify_items": null,
            "grid_row": null,
            "max_height": null,
            "align_content": null,
            "visibility": null,
            "align_self": null,
            "height": null,
            "min_height": null,
            "padding": null,
            "grid_auto_rows": null,
            "grid_gap": null,
            "max_width": null,
            "order": null,
            "_view_module_version": "1.2.0",
            "grid_template_areas": null,
            "object_position": null,
            "object_fit": null,
            "grid_auto_columns": null,
            "margin": null,
            "display": null,
            "left": null
          }
        },
        "455d7eafdb7e4c87b8b8b7417b9e5e8d": {
          "model_module": "@jupyter-widgets/controls",
          "model_name": "IntProgressModel",
          "state": {
            "_view_name": "ProgressView",
            "style": "IPY_MODEL_1531e149eab14e60ac13967f924fc7d1",
            "_dom_classes": [],
            "description": "encoder",
            "_model_name": "IntProgressModel",
            "bar_style": "",
            "max": 2,
            "_view_module": "@jupyter-widgets/controls",
            "_model_module_version": "1.5.0",
            "value": 2,
            "_view_count": null,
            "_view_module_version": "1.5.0",
            "orientation": "horizontal",
            "min": 0,
            "description_tooltip": null,
            "_model_module": "@jupyter-widgets/controls",
            "layout": "IPY_MODEL_424d9dde974b4cb1a12eabbaa288a8d5"
          }
        },
        "95844a1ee11d4bd3be44681a1661f2ee": {
          "model_module": "@jupyter-widgets/controls",
          "model_name": "HTMLModel",
          "state": {
            "_view_name": "HTMLView",
            "style": "IPY_MODEL_03c5ecae15994363b433189e4d3d7702",
            "_dom_classes": [],
            "description": "",
            "_model_name": "HTMLModel",
            "placeholder": "​",
            "_view_module": "@jupyter-widgets/controls",
            "_model_module_version": "1.5.0",
            "value": "100% 2/2 [00:02&lt;00:00,  1.13s/it]",
            "_view_count": null,
            "_view_module_version": "1.5.0",
            "description_tooltip": null,
            "_model_module": "@jupyter-widgets/controls",
            "layout": "IPY_MODEL_9e39d1a6ddc947ac8ac2d90322dffad1"
          }
        },
        "1531e149eab14e60ac13967f924fc7d1": {
          "model_module": "@jupyter-widgets/controls",
          "model_name": "ProgressStyleModel",
          "state": {
            "_view_name": "StyleView",
            "_model_name": "ProgressStyleModel",
            "description_width": "initial",
            "_view_module": "@jupyter-widgets/base",
            "_model_module_version": "1.5.0",
            "_view_count": null,
            "_view_module_version": "1.2.0",
            "bar_color": null,
            "_model_module": "@jupyter-widgets/controls"
          }
        },
        "424d9dde974b4cb1a12eabbaa288a8d5": {
          "model_module": "@jupyter-widgets/base",
          "model_name": "LayoutModel",
          "state": {
            "_view_name": "LayoutView",
            "grid_template_rows": null,
            "right": null,
            "justify_content": null,
            "_view_module": "@jupyter-widgets/base",
            "overflow": null,
            "_model_module_version": "1.2.0",
            "_view_count": null,
            "flex_flow": null,
            "width": null,
            "min_width": null,
            "border": null,
            "align_items": null,
            "bottom": null,
            "_model_module": "@jupyter-widgets/base",
            "top": null,
            "grid_column": null,
            "overflow_y": null,
            "overflow_x": null,
            "grid_auto_flow": null,
            "grid_area": null,
            "grid_template_columns": null,
            "flex": null,
            "_model_name": "LayoutModel",
            "justify_items": null,
            "grid_row": null,
            "max_height": null,
            "align_content": null,
            "visibility": null,
            "align_self": null,
            "height": null,
            "min_height": null,
            "padding": null,
            "grid_auto_rows": null,
            "grid_gap": null,
            "max_width": null,
            "order": null,
            "_view_module_version": "1.2.0",
            "grid_template_areas": null,
            "object_position": null,
            "object_fit": null,
            "grid_auto_columns": null,
            "margin": null,
            "display": null,
            "left": null
          }
        },
        "03c5ecae15994363b433189e4d3d7702": {
          "model_module": "@jupyter-widgets/controls",
          "model_name": "DescriptionStyleModel",
          "state": {
            "_view_name": "StyleView",
            "_model_name": "DescriptionStyleModel",
            "description_width": "",
            "_view_module": "@jupyter-widgets/base",
            "_model_module_version": "1.5.0",
            "_view_count": null,
            "_view_module_version": "1.2.0",
            "_model_module": "@jupyter-widgets/controls"
          }
        },
        "9e39d1a6ddc947ac8ac2d90322dffad1": {
          "model_module": "@jupyter-widgets/base",
          "model_name": "LayoutModel",
          "state": {
            "_view_name": "LayoutView",
            "grid_template_rows": null,
            "right": null,
            "justify_content": null,
            "_view_module": "@jupyter-widgets/base",
            "overflow": null,
            "_model_module_version": "1.2.0",
            "_view_count": null,
            "flex_flow": null,
            "width": null,
            "min_width": null,
            "border": null,
            "align_items": null,
            "bottom": null,
            "_model_module": "@jupyter-widgets/base",
            "top": null,
            "grid_column": null,
            "overflow_y": null,
            "overflow_x": null,
            "grid_auto_flow": null,
            "grid_area": null,
            "grid_template_columns": null,
            "flex": null,
            "_model_name": "LayoutModel",
            "justify_items": null,
            "grid_row": null,
            "max_height": null,
            "align_content": null,
            "visibility": null,
            "align_self": null,
            "height": null,
            "min_height": null,
            "padding": null,
            "grid_auto_rows": null,
            "grid_gap": null,
            "max_width": null,
            "order": null,
            "_view_module_version": "1.2.0",
            "grid_template_areas": null,
            "object_position": null,
            "object_fit": null,
            "grid_auto_columns": null,
            "margin": null,
            "display": null,
            "left": null
          }
        },
        "a5a610a742154136a04b44410b4dfe7d": {
          "model_module": "@jupyter-widgets/controls",
          "model_name": "HBoxModel",
          "state": {
            "_view_name": "HBoxView",
            "_dom_classes": [],
            "_model_name": "HBoxModel",
            "_view_module": "@jupyter-widgets/controls",
            "_model_module_version": "1.5.0",
            "_view_count": null,
            "_view_module_version": "1.5.0",
            "box_style": "",
            "layout": "IPY_MODEL_56b9e77b43aa43ea96e685943a07f384",
            "_model_module": "@jupyter-widgets/controls",
            "children": [
              "IPY_MODEL_958718d3ea054e63b2b8e60e7063d94b",
              "IPY_MODEL_ec06abb535d7490b9a5fb3bec1c37445"
            ]
          }
        },
        "56b9e77b43aa43ea96e685943a07f384": {
          "model_module": "@jupyter-widgets/base",
          "model_name": "LayoutModel",
          "state": {
            "_view_name": "LayoutView",
            "grid_template_rows": null,
            "right": null,
            "justify_content": null,
            "_view_module": "@jupyter-widgets/base",
            "overflow": null,
            "_model_module_version": "1.2.0",
            "_view_count": null,
            "flex_flow": null,
            "width": null,
            "min_width": null,
            "border": null,
            "align_items": null,
            "bottom": null,
            "_model_module": "@jupyter-widgets/base",
            "top": null,
            "grid_column": null,
            "overflow_y": null,
            "overflow_x": null,
            "grid_auto_flow": null,
            "grid_area": null,
            "grid_template_columns": null,
            "flex": null,
            "_model_name": "LayoutModel",
            "justify_items": null,
            "grid_row": null,
            "max_height": null,
            "align_content": null,
            "visibility": null,
            "align_self": null,
            "height": null,
            "min_height": null,
            "padding": null,
            "grid_auto_rows": null,
            "grid_gap": null,
            "max_width": null,
            "order": null,
            "_view_module_version": "1.2.0",
            "grid_template_areas": null,
            "object_position": null,
            "object_fit": null,
            "grid_auto_columns": null,
            "margin": null,
            "display": null,
            "left": null
          }
        },
        "958718d3ea054e63b2b8e60e7063d94b": {
          "model_module": "@jupyter-widgets/controls",
          "model_name": "IntProgressModel",
          "state": {
            "_view_name": "ProgressView",
            "style": "IPY_MODEL_e2873e9a52544170891b68c639f4ba61",
            "_dom_classes": [],
            "description": "encoder",
            "_model_name": "IntProgressModel",
            "bar_style": "",
            "max": 2,
            "_view_module": "@jupyter-widgets/controls",
            "_model_module_version": "1.5.0",
            "value": 2,
            "_view_count": null,
            "_view_module_version": "1.5.0",
            "orientation": "horizontal",
            "min": 0,
            "description_tooltip": null,
            "_model_module": "@jupyter-widgets/controls",
            "layout": "IPY_MODEL_c91e060f5c5d45da84a4cb0a578bdf97"
          }
        },
        "ec06abb535d7490b9a5fb3bec1c37445": {
          "model_module": "@jupyter-widgets/controls",
          "model_name": "HTMLModel",
          "state": {
            "_view_name": "HTMLView",
            "style": "IPY_MODEL_6c40b69828264b3ca48b2eeba62a2ca6",
            "_dom_classes": [],
            "description": "",
            "_model_name": "HTMLModel",
            "placeholder": "​",
            "_view_module": "@jupyter-widgets/controls",
            "_model_module_version": "1.5.0",
            "value": "100% 2/2 [00:23&lt;00:00, 14.27s/it]",
            "_view_count": null,
            "_view_module_version": "1.5.0",
            "description_tooltip": null,
            "_model_module": "@jupyter-widgets/controls",
            "layout": "IPY_MODEL_df91c4d405e84df09b866d77527d7021"
          }
        },
        "e2873e9a52544170891b68c639f4ba61": {
          "model_module": "@jupyter-widgets/controls",
          "model_name": "ProgressStyleModel",
          "state": {
            "_view_name": "StyleView",
            "_model_name": "ProgressStyleModel",
            "description_width": "initial",
            "_view_module": "@jupyter-widgets/base",
            "_model_module_version": "1.5.0",
            "_view_count": null,
            "_view_module_version": "1.2.0",
            "bar_color": null,
            "_model_module": "@jupyter-widgets/controls"
          }
        },
        "c91e060f5c5d45da84a4cb0a578bdf97": {
          "model_module": "@jupyter-widgets/base",
          "model_name": "LayoutModel",
          "state": {
            "_view_name": "LayoutView",
            "grid_template_rows": null,
            "right": null,
            "justify_content": null,
            "_view_module": "@jupyter-widgets/base",
            "overflow": null,
            "_model_module_version": "1.2.0",
            "_view_count": null,
            "flex_flow": null,
            "width": null,
            "min_width": null,
            "border": null,
            "align_items": null,
            "bottom": null,
            "_model_module": "@jupyter-widgets/base",
            "top": null,
            "grid_column": null,
            "overflow_y": null,
            "overflow_x": null,
            "grid_auto_flow": null,
            "grid_area": null,
            "grid_template_columns": null,
            "flex": null,
            "_model_name": "LayoutModel",
            "justify_items": null,
            "grid_row": null,
            "max_height": null,
            "align_content": null,
            "visibility": null,
            "align_self": null,
            "height": null,
            "min_height": null,
            "padding": null,
            "grid_auto_rows": null,
            "grid_gap": null,
            "max_width": null,
            "order": null,
            "_view_module_version": "1.2.0",
            "grid_template_areas": null,
            "object_position": null,
            "object_fit": null,
            "grid_auto_columns": null,
            "margin": null,
            "display": null,
            "left": null
          }
        },
        "6c40b69828264b3ca48b2eeba62a2ca6": {
          "model_module": "@jupyter-widgets/controls",
          "model_name": "DescriptionStyleModel",
          "state": {
            "_view_name": "StyleView",
            "_model_name": "DescriptionStyleModel",
            "description_width": "",
            "_view_module": "@jupyter-widgets/base",
            "_model_module_version": "1.5.0",
            "_view_count": null,
            "_view_module_version": "1.2.0",
            "_model_module": "@jupyter-widgets/controls"
          }
        },
        "df91c4d405e84df09b866d77527d7021": {
          "model_module": "@jupyter-widgets/base",
          "model_name": "LayoutModel",
          "state": {
            "_view_name": "LayoutView",
            "grid_template_rows": null,
            "right": null,
            "justify_content": null,
            "_view_module": "@jupyter-widgets/base",
            "overflow": null,
            "_model_module_version": "1.2.0",
            "_view_count": null,
            "flex_flow": null,
            "width": null,
            "min_width": null,
            "border": null,
            "align_items": null,
            "bottom": null,
            "_model_module": "@jupyter-widgets/base",
            "top": null,
            "grid_column": null,
            "overflow_y": null,
            "overflow_x": null,
            "grid_auto_flow": null,
            "grid_area": null,
            "grid_template_columns": null,
            "flex": null,
            "_model_name": "LayoutModel",
            "justify_items": null,
            "grid_row": null,
            "max_height": null,
            "align_content": null,
            "visibility": null,
            "align_self": null,
            "height": null,
            "min_height": null,
            "padding": null,
            "grid_auto_rows": null,
            "grid_gap": null,
            "max_width": null,
            "order": null,
            "_view_module_version": "1.2.0",
            "grid_template_areas": null,
            "object_position": null,
            "object_fit": null,
            "grid_auto_columns": null,
            "margin": null,
            "display": null,
            "left": null
          }
        },
        "ef4e0d062d07423c9b7cc4165011e518": {
          "model_module": "@jupyter-widgets/controls",
          "model_name": "HBoxModel",
          "state": {
            "_view_name": "HBoxView",
            "_dom_classes": [],
            "_model_name": "HBoxModel",
            "_view_module": "@jupyter-widgets/controls",
            "_model_module_version": "1.5.0",
            "_view_count": null,
            "_view_module_version": "1.5.0",
            "box_style": "",
            "layout": "IPY_MODEL_82065da6eb434d0890e54ac8f2463f60",
            "_model_module": "@jupyter-widgets/controls",
            "children": [
              "IPY_MODEL_5dcb86b584b0461ea5cbaa7e38aec907",
              "IPY_MODEL_a9d29a12edc045378e0437136bd7d809"
            ]
          }
        },
        "82065da6eb434d0890e54ac8f2463f60": {
          "model_module": "@jupyter-widgets/base",
          "model_name": "LayoutModel",
          "state": {
            "_view_name": "LayoutView",
            "grid_template_rows": null,
            "right": null,
            "justify_content": null,
            "_view_module": "@jupyter-widgets/base",
            "overflow": null,
            "_model_module_version": "1.2.0",
            "_view_count": null,
            "flex_flow": null,
            "width": null,
            "min_width": null,
            "border": null,
            "align_items": null,
            "bottom": null,
            "_model_module": "@jupyter-widgets/base",
            "top": null,
            "grid_column": null,
            "overflow_y": null,
            "overflow_x": null,
            "grid_auto_flow": null,
            "grid_area": null,
            "grid_template_columns": null,
            "flex": null,
            "_model_name": "LayoutModel",
            "justify_items": null,
            "grid_row": null,
            "max_height": null,
            "align_content": null,
            "visibility": null,
            "align_self": null,
            "height": null,
            "min_height": null,
            "padding": null,
            "grid_auto_rows": null,
            "grid_gap": null,
            "max_width": null,
            "order": null,
            "_view_module_version": "1.2.0",
            "grid_template_areas": null,
            "object_position": null,
            "object_fit": null,
            "grid_auto_columns": null,
            "margin": null,
            "display": null,
            "left": null
          }
        },
        "5dcb86b584b0461ea5cbaa7e38aec907": {
          "model_module": "@jupyter-widgets/controls",
          "model_name": "IntProgressModel",
          "state": {
            "_view_name": "ProgressView",
            "style": "IPY_MODEL_b1d1fea75f8440f4aa2533627115e97f",
            "_dom_classes": [],
            "description": "encoder",
            "_model_name": "IntProgressModel",
            "bar_style": "",
            "max": 2,
            "_view_module": "@jupyter-widgets/controls",
            "_model_module_version": "1.5.0",
            "value": 2,
            "_view_count": null,
            "_view_module_version": "1.5.0",
            "orientation": "horizontal",
            "min": 0,
            "description_tooltip": null,
            "_model_module": "@jupyter-widgets/controls",
            "layout": "IPY_MODEL_6f85a3baec354d6c8d8ffb30bbcc59fc"
          }
        },
        "a9d29a12edc045378e0437136bd7d809": {
          "model_module": "@jupyter-widgets/controls",
          "model_name": "HTMLModel",
          "state": {
            "_view_name": "HTMLView",
            "style": "IPY_MODEL_548cc6b99f3740b596c85d8f5523bf79",
            "_dom_classes": [],
            "description": "",
            "_model_name": "HTMLModel",
            "placeholder": "​",
            "_view_module": "@jupyter-widgets/controls",
            "_model_module_version": "1.5.0",
            "value": "100% 2/2 [00:07&lt;00:00,  3.76s/it]",
            "_view_count": null,
            "_view_module_version": "1.5.0",
            "description_tooltip": null,
            "_model_module": "@jupyter-widgets/controls",
            "layout": "IPY_MODEL_01034eca9e654f3888dd373fae5f2d15"
          }
        },
        "b1d1fea75f8440f4aa2533627115e97f": {
          "model_module": "@jupyter-widgets/controls",
          "model_name": "ProgressStyleModel",
          "state": {
            "_view_name": "StyleView",
            "_model_name": "ProgressStyleModel",
            "description_width": "initial",
            "_view_module": "@jupyter-widgets/base",
            "_model_module_version": "1.5.0",
            "_view_count": null,
            "_view_module_version": "1.2.0",
            "bar_color": null,
            "_model_module": "@jupyter-widgets/controls"
          }
        },
        "6f85a3baec354d6c8d8ffb30bbcc59fc": {
          "model_module": "@jupyter-widgets/base",
          "model_name": "LayoutModel",
          "state": {
            "_view_name": "LayoutView",
            "grid_template_rows": null,
            "right": null,
            "justify_content": null,
            "_view_module": "@jupyter-widgets/base",
            "overflow": null,
            "_model_module_version": "1.2.0",
            "_view_count": null,
            "flex_flow": null,
            "width": null,
            "min_width": null,
            "border": null,
            "align_items": null,
            "bottom": null,
            "_model_module": "@jupyter-widgets/base",
            "top": null,
            "grid_column": null,
            "overflow_y": null,
            "overflow_x": null,
            "grid_auto_flow": null,
            "grid_area": null,
            "grid_template_columns": null,
            "flex": null,
            "_model_name": "LayoutModel",
            "justify_items": null,
            "grid_row": null,
            "max_height": null,
            "align_content": null,
            "visibility": null,
            "align_self": null,
            "height": null,
            "min_height": null,
            "padding": null,
            "grid_auto_rows": null,
            "grid_gap": null,
            "max_width": null,
            "order": null,
            "_view_module_version": "1.2.0",
            "grid_template_areas": null,
            "object_position": null,
            "object_fit": null,
            "grid_auto_columns": null,
            "margin": null,
            "display": null,
            "left": null
          }
        },
        "548cc6b99f3740b596c85d8f5523bf79": {
          "model_module": "@jupyter-widgets/controls",
          "model_name": "DescriptionStyleModel",
          "state": {
            "_view_name": "StyleView",
            "_model_name": "DescriptionStyleModel",
            "description_width": "",
            "_view_module": "@jupyter-widgets/base",
            "_model_module_version": "1.5.0",
            "_view_count": null,
            "_view_module_version": "1.2.0",
            "_model_module": "@jupyter-widgets/controls"
          }
        },
        "01034eca9e654f3888dd373fae5f2d15": {
          "model_module": "@jupyter-widgets/base",
          "model_name": "LayoutModel",
          "state": {
            "_view_name": "LayoutView",
            "grid_template_rows": null,
            "right": null,
            "justify_content": null,
            "_view_module": "@jupyter-widgets/base",
            "overflow": null,
            "_model_module_version": "1.2.0",
            "_view_count": null,
            "flex_flow": null,
            "width": null,
            "min_width": null,
            "border": null,
            "align_items": null,
            "bottom": null,
            "_model_module": "@jupyter-widgets/base",
            "top": null,
            "grid_column": null,
            "overflow_y": null,
            "overflow_x": null,
            "grid_auto_flow": null,
            "grid_area": null,
            "grid_template_columns": null,
            "flex": null,
            "_model_name": "LayoutModel",
            "justify_items": null,
            "grid_row": null,
            "max_height": null,
            "align_content": null,
            "visibility": null,
            "align_self": null,
            "height": null,
            "min_height": null,
            "padding": null,
            "grid_auto_rows": null,
            "grid_gap": null,
            "max_width": null,
            "order": null,
            "_view_module_version": "1.2.0",
            "grid_template_areas": null,
            "object_position": null,
            "object_fit": null,
            "grid_auto_columns": null,
            "margin": null,
            "display": null,
            "left": null
          }
        }
      }
    }
  },
  "cells": [
    {
      "cell_type": "code",
      "metadata": {
        "id": "U3g-uZQiMq6K",
        "colab_type": "code",
        "colab": {}
      },
      "source": [
        "# Fill in your name using the format below and student ID number\n",
        "your_name = \"Molon, Mattia\"\n",
        "student_id = \"1511866\""
      ],
      "execution_count": 0,
      "outputs": []
    },
    {
      "cell_type": "markdown",
      "metadata": {
        "id": "xRJPoRDZMq6N",
        "colab_type": "text"
      },
      "source": [
        "# Assignment 2\n",
        "The [Speed Dating dataset](https://www.openml.org/d/40536) collects feedback gathered from participants in experimental speed dating events. Every participant rated themselves and their dates according to different attributes (e.g. attractiveness, sincerity, intelligence, fun, ambition, shared interests,...), and whether or not they were interested in a second date. Our goal is to build a machine learning model able to predict whether there will be a match (or not) between two different people. Will you be able to trust your final model?"
      ]
    },
    {
      "cell_type": "code",
      "metadata": {
        "id": "OccTEQbDWW4V",
        "colab_type": "code",
        "colab": {}
      },
      "source": [
        "!pip install openml category_encoders seaborn"
      ],
      "execution_count": 0,
      "outputs": []
    },
    {
      "cell_type": "code",
      "metadata": {
        "id": "LUHQUQojMq6O",
        "colab_type": "code",
        "colab": {}
      },
      "source": [
        "# imports\n",
        "%matplotlib inline\n",
        "import pandas as pd\n",
        "import numpy as np\n",
        "import matplotlib.pyplot as plt\n",
        "import openml"
      ],
      "execution_count": 0,
      "outputs": []
    },
    {
      "cell_type": "markdown",
      "metadata": {
        "id": "TFnPCnAgMq6U",
        "colab_type": "text"
      },
      "source": [
        "### Additional packages:\n",
        "* TargetEncoder\n",
        "    - Run `pip install category_encoders` or `conda install -c conda-forge category_encoders`\n",
        "* Seaborn (plotting)\n",
        "    - Run `pip install seaborn` or `conda install seaborn`"
      ]
    },
    {
      "cell_type": "code",
      "metadata": {
        "id": "b8c33D8_Mq6V",
        "colab_type": "code",
        "outputId": "4baa0ed8-313b-4993-d2c5-be86ff3c00bb",
        "colab": {
          "base_uri": "https://localhost:8080/",
          "height": 34
        }
      },
      "source": [
        "# Pre-flight checklist. Do not change this code.\n",
        "# Make sure that you have installed recent versions of key packages.\n",
        "# You could lose points if these checks do not pass.\n",
        "from packaging import version\n",
        "import sklearn\n",
        "import category_encoders\n",
        "import seaborn\n",
        "sklearn_version = sklearn.__version__\n",
        "catencoder_version = category_encoders.__version__\n",
        "if version.parse(sklearn_version) < version.parse(\"0.22.0\"):\n",
        "    print(\"scikit-learn is outdated. Please update now!\")\n",
        "if version.parse(catencoder_version) < version.parse(\"2.0.0\"):\n",
        "    print(\"category_encoders is outdated. Please update now!\")\n",
        "else:\n",
        "    print(\"OK. You may continue :)\")"
      ],
      "execution_count": 4,
      "outputs": [
        {
          "output_type": "stream",
          "text": [
            "OK. You may continue :)\n"
          ],
          "name": "stdout"
        }
      ]
    },
    {
      "cell_type": "code",
      "metadata": {
        "id": "OYEackJCMq6X",
        "colab_type": "code",
        "colab": {}
      },
      "source": [
        "# Download Speed Dating data. Takes a while the first time. Do not change this code!\n",
        "# Note that X is a pandas dataframe \n",
        "dates = openml.datasets.get_dataset(40536)\n",
        "X, y, _, feat_names = dates.get_data(target=dates.default_target_attribute)"
      ],
      "execution_count": 0,
      "outputs": []
    },
    {
      "cell_type": "code",
      "metadata": {
        "id": "wFyNViefMq6a",
        "colab_type": "code",
        "colab": {}
      },
      "source": [
        "# Cleanup. Do not change this code!\n",
        "# Remove irrelevant or preprocessed columns \n",
        "cols = [c for c in X.columns if ((c.lower()[:2] != 'd_' or c.lower() == 'd_age') and c.lower() not in ['wave','has_null'])]\n",
        "X = X[cols]\n",
        "classes = ['No match','Match']\n",
        "\n",
        "# Fix feature name typos\n",
        "X = X.rename(columns={'ambtition_important': 'ambition_important',\n",
        "                     'sinsere_o': 'sincere_o'})\n",
        "\n",
        "# Harmonize the field names somewhat\n",
        "X['field'] = X['field'].str.lower()\n",
        "X = X.astype({'field': 'category'})\n",
        "\n",
        "# Drop columns with more than 10% missing values\n",
        "missing_counts = X.isnull().sum() * 100 / len(X)\n",
        "d = {k:v for (k,v) in missing_counts.items() if v>10}\n",
        "X.drop(d.keys(), axis=1, inplace=True)\n",
        "\n",
        "# Solves an implementation issue with TargetEncoder\n",
        "y=y.astype(int)"
      ],
      "execution_count": 0,
      "outputs": []
    },
    {
      "cell_type": "code",
      "metadata": {
        "id": "Lv8MWbDJMq6d",
        "colab_type": "code",
        "colab": {}
      },
      "source": [
        "# THIS WILL BE HELPFUL\n",
        "# The list of the names of all categorical features\n",
        "categorical = X.select_dtypes(include=[\"category\"]).columns.tolist()\n",
        "# The list of the names of all numerical features\n",
        "numerical = X.select_dtypes(exclude=[\"category\"]).columns.tolist()"
      ],
      "execution_count": 0,
      "outputs": []
    },
    {
      "cell_type": "markdown",
      "metadata": {
        "id": "n4WSJFsLMq6f",
        "colab_type": "text"
      },
      "source": [
        "### Exploring the data\n",
        "Uncomment these lines to learn more about the data. Comment or remove to run the notebook faster."
      ]
    },
    {
      "cell_type": "code",
      "metadata": {
        "id": "zDuAbGJlMq6g",
        "colab_type": "code",
        "colab": {}
      },
      "source": [
        "# Peek at the remaining data\n",
        "# X"
      ],
      "execution_count": 0,
      "outputs": []
    },
    {
      "cell_type": "code",
      "metadata": {
        "id": "6RpNqmRPMq6i",
        "colab_type": "code",
        "colab": {}
      },
      "source": [
        "# Check the column data types and missing data\n",
        "# X.info()"
      ],
      "execution_count": 0,
      "outputs": []
    },
    {
      "cell_type": "code",
      "metadata": {
        "id": "K219TPywMq6k",
        "colab_type": "code",
        "colab": {}
      },
      "source": [
        "# Some categorical columns have a large number of possible values\n",
        "# Note: It looks like some manual cleaning should be done, but let's move on\n",
        "# X['field'].value_counts().plot(kind='barh', figsize=(5,40));"
      ],
      "execution_count": 0,
      "outputs": []
    },
    {
      "cell_type": "code",
      "metadata": {
        "id": "3SO6DN0mMq6n",
        "colab_type": "code",
        "colab": {}
      },
      "source": [
        "# Distributions of numeric data\n",
        "# X.hist(layout=(20,4), figsize=(20,50));"
      ],
      "execution_count": 0,
      "outputs": []
    },
    {
      "cell_type": "code",
      "metadata": {
        "id": "mk8jmiqdMq6r",
        "colab_type": "code",
        "colab": {}
      },
      "source": [
        "# What do people find important? Is this related to the outcome (match / no match)?\n",
        "# import seaborn as sns\n",
        "# subset = ['attractive_important','ambition_important','attractive_partner','ambition_partner']\n",
        "# X_sub=X[subset]\n",
        "# X_sub['match'] = [classes[int(x)] for x in y] \n",
        "# sns.set(style=\"ticks\")\n",
        "# sns.pairplot(X_sub, hue=\"match\");"
      ],
      "execution_count": 0,
      "outputs": []
    },
    {
      "cell_type": "markdown",
      "metadata": {
        "id": "Et23qlpHMq6t",
        "colab_type": "text"
      },
      "source": [
        "## Part 1: Preprocessing"
      ]
    },
    {
      "cell_type": "markdown",
      "metadata": {
        "id": "wEpZFu4dMq6u",
        "colab_type": "text"
      },
      "source": [
        "### Question 1.1 (5 points)\n",
        "Implement a function `simple_pipeline` that returns an sklearn pipeline that preprocesses the data in a minimal way before running a classifier:\n",
        "- Categorical features:\n",
        "    - Impute missing values by replacing them with the most frequent value for that feature\n",
        "    - Perform one-hot encoding. Use `sparse=False` to avoid that it returns a sparse datasets. Use `handle_unknown='ignore'` to ignore categorical values that where not seen during training.\n",
        "- Numeric features:\n",
        "    - Remove missing values by replace missing values with the mean value for that feature"
      ]
    },
    {
      "cell_type": "code",
      "metadata": {
        "id": "q-hTf6FIMq6v",
        "colab_type": "code",
        "colab": {}
      },
      "source": [
        "from sklearn.pipeline import Pipeline\n",
        "from sklearn.impute import SimpleImputer\n",
        "from sklearn.preprocessing import OneHotEncoder\n",
        "from sklearn.compose import ColumnTransformer\n",
        "\n",
        "def simple_pipeline(categorical, clf):\n",
        "    \"\"\" Returns a minimal pipeline that imputes missing values and does one-hot-encoding for categorical features\n",
        "    Keyword arguments:\n",
        "    categorical -- A list of categorical column names. Example: ['gender', 'country'].\n",
        "    clf -- any scikit-learn classifier\n",
        "    Returns: a scikit-learn pipeline which preprocesses the data and then runs the classifier\n",
        "    \"\"\"\n",
        "    # pipelines for categorical and numerical features\n",
        "    cat_pipe = Pipeline([('cat_inputer', SimpleImputer(strategy='most_frequent')),\n",
        "                         ('encoder', OneHotEncoder(sparse=False, handle_unknown='ignore'))])\n",
        "    num_pipe = Pipeline([('num_inputer', SimpleImputer(strategy='mean'))])\n",
        "    # preprocessor\n",
        "    preprocessor = ColumnTransformer([('cat',cat_pipe, categorical), ('num', num_pipe, numerical)])\n",
        "    \n",
        "    # return pipeline with classifiers\n",
        "    return Pipeline([('preprocess', preprocessor), ('classifier', clf)])"
      ],
      "execution_count": 0,
      "outputs": []
    },
    {
      "cell_type": "markdown",
      "metadata": {
        "id": "TfIsXlX6Mq6x",
        "colab_type": "text"
      },
      "source": [
        "#### Sanity check\n",
        "To be correct, this pipeline should be able to fit any classifier without error. Uncomment and run this code to do a sanity check."
      ]
    },
    {
      "cell_type": "code",
      "metadata": {
        "id": "eq1LT-8mMq6y",
        "colab_type": "code",
        "colab": {}
      },
      "source": [
        "from sklearn.tree import DecisionTreeClassifier\n",
        "simple_pipeline(categorical, DecisionTreeClassifier()).fit(X,y);"
      ],
      "execution_count": 0,
      "outputs": []
    },
    {
      "cell_type": "markdown",
      "metadata": {
        "id": "H-BbKXlLMq65",
        "colab_type": "text"
      },
      "source": [
        "### Question 1.2 (1 point)\n",
        "How many features are being constructed by this pipeline (i.e. on how many features is the classifier trained)?"
      ]
    },
    {
      "cell_type": "code",
      "metadata": {
        "id": "ev4C639BMq66",
        "colab_type": "code",
        "colab": {}
      },
      "source": [
        "# Fill in the correct answer, should be an integer. Don't change the name of the variable\n",
        "q_1_2 = 287"
      ],
      "execution_count": 0,
      "outputs": []
    },
    {
      "cell_type": "markdown",
      "metadata": {
        "id": "W8H-wW2jMq68",
        "colab_type": "text"
      },
      "source": [
        "### Question 1.3 (3 points)\n",
        "Implement a function `flexible_pipeline` that has two additional options:\n",
        "- Allow to add a feature scaling method for numeric features. The default is standard scaling. 'None' means no scaling\n",
        "- Allow the one-hot encoder to be replaced with another encoder, The default is one-hot encoding."
      ]
    },
    {
      "cell_type": "code",
      "metadata": {
        "id": "a7AYZ2kPMq69",
        "colab_type": "code",
        "colab": {}
      },
      "source": [
        "# Implement\n",
        "from sklearn.preprocessing import StandardScaler, OneHotEncoder\n",
        "\n",
        "def flexible_pipeline(categorical, clf, scaler=StandardScaler(), \n",
        "                      encoder=OneHotEncoder(sparse=False, handle_unknown='ignore')):\n",
        "    \"\"\" Returns a pipeline that imputes all missing values, encodes categorical features and scales numeric ones\n",
        "    Keyword arguments:\n",
        "    categorical -- A list of categorical column names. Example: ['gender', 'country'].\n",
        "    clf -- any scikit-learn classifier\n",
        "    scaler -- any scikit-learn feature scaling method (Optional)\n",
        "    encoder -- any scikit-learn category encoding method (Optional)\n",
        "    Returns: a scikit-learn pipeline which preprocesses the data and then runs the classifier\n",
        "    \"\"\"\n",
        "    # pipelines for categorical and numerical features\n",
        "    cat_pipe = Pipeline([('cat_inputer', SimpleImputer(strategy='most_frequent')),\n",
        "                         ('encoder', encoder)])\n",
        "    num_pipe = Pipeline([('num_inputer', SimpleImputer(strategy='mean'))])\n",
        "    if scaler != None:\n",
        "        num_pipe.steps.insert(1, ('scaler', scaler))\n",
        "    # preprocessor\n",
        "    preprocessor = ColumnTransformer([('cat', cat_pipe, categorical), ('num', num_pipe, numerical)])\n",
        "    \n",
        "    # return pipeline with classifiers\n",
        "    return Pipeline([('preprocess', preprocessor), ('classifier', clf)])"
      ],
      "execution_count": 0,
      "outputs": []
    },
    {
      "cell_type": "markdown",
      "metadata": {
        "id": "ZffPpXGQMq6_",
        "colab_type": "text"
      },
      "source": [
        "### Question 1.4 (3 points)\n",
        "Implement a function `plot_1_4` which plots a heatmap comparing several combinations of scaling methods and classifiers:\n",
        "* As classifiers, the following algorithms in their default hyperparameters settings: \n",
        "    * Logistic regression\n",
        "    * SVM with RBF kernel\n",
        "    * Random Forest\n",
        "* As options, the following feature scaling options in their default settings:\n",
        "    * No scaling\n",
        "    * Standard scaling\n",
        "    * Normalize\n",
        "    * PowerTransformer\n",
        "* In all cases, use OneHotEncoder with `sparse=False` and `handle_unknown='ignore'`\n",
        "\n",
        "You should evaluate all pipelines using AUC (area under the ROC curve) with 3-fold cross-validation. \n",
        "Compare all methods with the same cross-validation folds, shuffle the data and use `random_state=1`.\n",
        "Where possible, also use `random_state=1` for the classifiers. \n",
        "Only report the test scores (not the training scores)."
      ]
    },
    {
      "cell_type": "code",
      "metadata": {
        "id": "bohIuNRJMq7B",
        "colab_type": "code",
        "colab": {}
      },
      "source": [
        "### Helper plotting function. Do not change.\n",
        "import seaborn as sns\n",
        "def heatmap(columns, rows, scores):\n",
        "    \"\"\" Simple heatmap.\n",
        "    Keyword arguments:\n",
        "    columns -- list of options in the columns\n",
        "    rows -- list of options in the rows\n",
        "    scores -- numpy array of scores\n",
        "    \"\"\"\n",
        "    df = pd.DataFrame(scores, index=rows, columns=columns)\n",
        "    sns.heatmap(df, cmap='RdYlGn_r', linewidths=0.5, annot=True, fmt=\".3f\")"
      ],
      "execution_count": 0,
      "outputs": []
    },
    {
      "cell_type": "code",
      "metadata": {
        "id": "yH8ZaRD_Mq7D",
        "colab_type": "code",
        "outputId": "800ba5b0-8b1d-453e-9cf1-58e20109a66c",
        "colab": {
          "base_uri": "https://localhost:8080/",
          "height": 396,
          "referenced_widgets": [
            "55966fb2170d40e19b3f703e668ccbf3",
            "5bea46deee9945a3b985cbadc357288d",
            "94de9c2fda6340e6accc390248b17034",
            "5adbb1224810401abebcf0ae0d47a33d",
            "62ee2ff725ae44e7bd5156dca2738376",
            "152042807e3f43b6ba37c09da6687128",
            "5927364948104bbfb2a37bafaa1c7c01",
            "cf4aa84dbdcf4b82a1fe7c97e8509312",
            "d5a991bf9932485784b27ccb7c196a5e",
            "da404140c2bc4d26827cec3540694ced",
            "c82a2fefd8904039af2219c189b4f2f8",
            "4cf77ede4290485ebe13fb8c25cf7c91",
            "9592f070b56744d1993ac65d43ee3a76",
            "74c0378f0a214285adcc25beed4627b9",
            "f92b52a512824fc69680ce5a6c45117e",
            "06861d1837b64e2f9cdaba4afc9ebadc",
            "3acec06932d94858853ec79ca528890a",
            "b85506392856452ba2c04f328f1f23c5",
            "fe4e2880a8c64f07bec8f3ea6af27a31",
            "7132265e0fee48e7bc94f9f67e6110af",
            "64d543bfb95c491fb59ca99765f07516",
            "f91d227ef31b4f4cbd742ef1e38c1591",
            "442e9ae56bae4005b0dfc6c9290b0c5c",
            "7b0073afdad44fd99d3d818c04c3af77",
            "3f1220f5b2084e529e6e9a1eeb43ddd7",
            "978eaf3379b84b4f9e0dc276ae200ec2",
            "ff6a7a5950d145d9b86fc677f0054940",
            "951c3a95428b4b31a2af1c75eec60d33",
            "e7d29ce8642c42b3aa5f94464a8dab47",
            "baeb5bf504d046a49ec00c92126ba56c",
            "efbaff3156134294a5e94103716ec5e7",
            "70d3be9b45b04c02be868a85f20e838d"
          ]
        }
      },
      "source": [
        "from sklearn.linear_model import LogisticRegression\n",
        "from sklearn.svm import SVC \n",
        "from sklearn.ensemble import RandomForestClassifier\n",
        "from sklearn.preprocessing import Normalizer, PowerTransformer\n",
        "from sklearn.metrics import roc_auc_score\n",
        "from sklearn.model_selection import cross_val_score, StratifiedKFold\n",
        "from sklearn.preprocessing import StandardScaler\n",
        "\n",
        "def plot_1_4(X, y):\n",
        "\n",
        "  # models, scaling and score\n",
        "  models = [LogisticRegression(random_state=1), SVC(random_state=1), RandomForestClassifier(random_state=1)]\n",
        "  scaling_opt = [None, StandardScaler(), Normalizer(), PowerTransformer()]\n",
        "  scores = np.asarray([])\n",
        "\n",
        "  # cv split\n",
        "  kfold = StratifiedKFold(n_splits=3, shuffle=True, random_state=1)\n",
        "\n",
        "  # training models\n",
        "  for m in models:\n",
        "    for s in scaling_opt:\n",
        "      pipe = flexible_pipeline(categorical, m, scaler=s)\n",
        "      roc_auc = cross_val_score(pipe, X, y, scoring=\"roc_auc\", cv=kfold, n_jobs=-1)\n",
        "      scores = np.append(scores, roc_auc.mean())\n",
        "  \n",
        "  # visualization\n",
        "  rows = [m.__class__.__name__ for m in models]\n",
        "  columns = [s.__class__.__name__ for s in scaling_opt]\n",
        "  heatmap(columns, rows, scores.reshape(3,4))\n",
        "\n",
        "plot_1_4(X, y)\n"
      ],
      "execution_count": 53,
      "outputs": [
        {
          "output_type": "display_data",
          "data": {
            "application/vnd.jupyter.widget-view+json": {
              "model_id": "55966fb2170d40e19b3f703e668ccbf3",
              "version_minor": 0,
              "version_major": 2
            },
            "text/plain": [
              "HBox(children=(IntProgress(value=0, description='model', max=3, style=ProgressStyle(description_width='initial…"
            ]
          },
          "metadata": {
            "tags": []
          }
        },
        {
          "output_type": "display_data",
          "data": {
            "application/vnd.jupyter.widget-view+json": {
              "model_id": "d5a991bf9932485784b27ccb7c196a5e",
              "version_minor": 0,
              "version_major": 2
            },
            "text/plain": [
              "HBox(children=(IntProgress(value=0, description='scaler', max=4, style=ProgressStyle(description_width='initia…"
            ]
          },
          "metadata": {
            "tags": []
          }
        },
        {
          "output_type": "display_data",
          "data": {
            "application/vnd.jupyter.widget-view+json": {
              "model_id": "3acec06932d94858853ec79ca528890a",
              "version_minor": 0,
              "version_major": 2
            },
            "text/plain": [
              "HBox(children=(IntProgress(value=0, description='scaler', max=4, style=ProgressStyle(description_width='initia…"
            ]
          },
          "metadata": {
            "tags": []
          }
        },
        {
          "output_type": "display_data",
          "data": {
            "application/vnd.jupyter.widget-view+json": {
              "model_id": "3f1220f5b2084e529e6e9a1eeb43ddd7",
              "version_minor": 0,
              "version_major": 2
            },
            "text/plain": [
              "HBox(children=(IntProgress(value=0, description='scaler', max=4, style=ProgressStyle(description_width='initia…"
            ]
          },
          "metadata": {
            "tags": []
          }
        },
        {
          "output_type": "stream",
          "text": [
            "\n"
          ],
          "name": "stdout"
        },
        {
          "output_type": "display_data",
          "data": {
            "image/png": "[encoded data removed]",
            "text/plain": [
              "<Figure size 432x288 with 2 Axes>"
            ]
          },
          "metadata": {
            "tags": []
          }
        }
      ]
    },
    {
      "cell_type": "markdown",
      "metadata": {
        "id": "ku4r3HSIMq7H",
        "colab_type": "text"
      },
      "source": [
        "### Question 1.5 (1 point)\n",
        "Interpret the heatmap of Question 1.4. Which of the following are correct?  \n",
        "Enter your answer as a comma-separated string without spaces, e.g. \"A,B,C\"\n",
        "- 'A': All scaling methods perform equally well. It doesn't matter which scaling method is used.\n",
        "- 'B': The best scaling method depends on the classifier that will be used.\n",
        "- 'C': Scaling is important for SVMs and logistic regression, but not needed for Random Forests.\n",
        "- 'D': The power transformer is much better than other techniques on this dataset because many features have a power law distribution.\n",
        "- 'E': The Normalizer works badly because information gets lost in the scaling.\n",
        "- 'F': No answer"
      ]
    },
    {
      "cell_type": "code",
      "metadata": {
        "id": "7147vIjSMq7I",
        "colab_type": "code",
        "colab": {}
      },
      "source": [
        "# Fill in the correct answers, e.g. 'A,B,C'. Don't change the name of the variable\n",
        "q_1_5 = 'B,C'"
      ],
      "execution_count": 0,
      "outputs": []
    },
    {
      "cell_type": "markdown",
      "metadata": {
        "id": "dioXb-0WMq7N",
        "colab_type": "text"
      },
      "source": [
        "### Question 1.6 (3 points)\n",
        "Optimize the encoding method for the categorical features. Use your `flexible_pipeline` to compare OneHotEncoding and TargetEncoding\n",
        "together with the same 3 classifiers as in question 1.4. Always use standard scaling. Implement a function `plot_1_6` which plots a heatmap with the results.\n",
        "\n",
        "TargetEncoding is part of the category encoders extension of scikit-learn. [Read more about it.](https://contrib.scikit-learn.org/categorical-encoding/targetencoder.html)"
      ]
    },
    {
      "cell_type": "code",
      "metadata": {
        "id": "OzYQb_k_Mq7O",
        "colab_type": "code",
        "outputId": "aaebc760-c00d-4739-c668-6fc40c395bac",
        "colab": {
          "base_uri": "https://localhost:8080/",
          "height": 314,
          "referenced_widgets": [
            "612fc0a8d83b4fd48553023e570435d0",
            "8c5cb2b8e7764835aa3e0a4deffed7e8",
            "0e1eaf54f9254a6994d1a3bb61854c8e",
            "2bf838611a1e489c823860f2cf85f242",
            "8ea7be8650374c9e9a6499e89e90c5f1",
            "7eec23633c134dc39b8dc7fe420699db",
            "2739950649d54f51863b8af9195f929f",
            "9ea44514f8344f72b68786e0feed0ffb",
            "8e17fb674463435da692786b64e17500",
            "db5e73ee58cf46b8a372c6911c63ee3c",
            "455d7eafdb7e4c87b8b8b7417b9e5e8d",
            "95844a1ee11d4bd3be44681a1661f2ee",
            "1531e149eab14e60ac13967f924fc7d1",
            "424d9dde974b4cb1a12eabbaa288a8d5",
            "03c5ecae15994363b433189e4d3d7702",
            "9e39d1a6ddc947ac8ac2d90322dffad1",
            "a5a610a742154136a04b44410b4dfe7d",
            "56b9e77b43aa43ea96e685943a07f384",
            "958718d3ea054e63b2b8e60e7063d94b",
            "ec06abb535d7490b9a5fb3bec1c37445",
            "e2873e9a52544170891b68c639f4ba61",
            "c91e060f5c5d45da84a4cb0a578bdf97",
            "6c40b69828264b3ca48b2eeba62a2ca6",
            "df91c4d405e84df09b866d77527d7021",
            "ef4e0d062d07423c9b7cc4165011e518",
            "82065da6eb434d0890e54ac8f2463f60",
            "5dcb86b584b0461ea5cbaa7e38aec907",
            "a9d29a12edc045378e0437136bd7d809",
            "b1d1fea75f8440f4aa2533627115e97f",
            "6f85a3baec354d6c8d8ffb30bbcc59fc",
            "548cc6b99f3740b596c85d8f5523bf79",
            "01034eca9e654f3888dd373fae5f2d15"
          ]
        }
      },
      "source": [
        "from category_encoders import TargetEncoder\n",
        "\n",
        "def plot_1_6(X, y):\n",
        "    \n",
        "  # models, encoder and score\n",
        "  models = [LogisticRegression(random_state=1), SVC(random_state=1), RandomForestClassifier(random_state=1)]\n",
        "  encoder_opt = [None, TargetEncoder()]\n",
        "  scores = np.asarray([])\n",
        "\n",
        "  # cv split\n",
        "  kfold = StratifiedKFold(n_splits=3, shuffle=True, random_state=1)\n",
        "\n",
        "  for m in models:\n",
        "    for e in encoder_opt:\n",
        "      pipe = flexible_pipeline(categorical, m, encoder=e) if e != None else flexible_pipeline(categorical, m)\n",
        "      roc_auc = cross_val_score(pipe, X, y, scoring=\"roc_auc\", cv=kfold, n_jobs=-1)\n",
        "      scores = np.append(scores, roc_auc.mean())\n",
        "  \n",
        "  rows = [m.__class__.__name__ for m in models]\n",
        "  columns = ['OneHotEncoder' if e == None else e.__class__.__name__ for e in encoder_opt]\n",
        "  heatmap(columns, rows, scores.reshape(3,2))\n",
        "\n",
        "plot_1_6(X, y)"
      ],
      "execution_count": 54,
      "outputs": [
        {
          "output_type": "display_data",
          "data": {
            "application/vnd.jupyter.widget-view+json": {
              "model_id": "612fc0a8d83b4fd48553023e570435d0",
              "version_minor": 0,
              "version_major": 2
            },
            "text/plain": [
              "HBox(children=(IntProgress(value=0, description='model', max=3, style=ProgressStyle(description_width='initial…"
            ]
          },
          "metadata": {
            "tags": []
          }
        },
        {
          "output_type": "display_data",
          "data": {
            "application/vnd.jupyter.widget-view+json": {
              "model_id": "8e17fb674463435da692786b64e17500",
              "version_minor": 0,
              "version_major": 2
            },
            "text/plain": [
              "HBox(children=(IntProgress(value=0, description='encoder', max=2, style=ProgressStyle(description_width='initi…"
            ]
          },
          "metadata": {
            "tags": []
          }
        },
        {
          "output_type": "display_data",
          "data": {
            "application/vnd.jupyter.widget-view+json": {
              "model_id": "a5a610a742154136a04b44410b4dfe7d",
              "version_minor": 0,
              "version_major": 2
            },
            "text/plain": [
              "HBox(children=(IntProgress(value=0, description='encoder', max=2, style=ProgressStyle(description_width='initi…"
            ]
          },
          "metadata": {
            "tags": []
          }
        },
        {
          "output_type": "display_data",
          "data": {
            "application/vnd.jupyter.widget-view+json": {
              "model_id": "ef4e0d062d07423c9b7cc4165011e518",
              "version_minor": 0,
              "version_major": 2
            },
            "text/plain": [
              "HBox(children=(IntProgress(value=0, description='encoder', max=2, style=ProgressStyle(description_width='initi…"
            ]
          },
          "metadata": {
            "tags": []
          }
        },
        {
          "output_type": "stream",
          "text": [
            "\n"
          ],
          "name": "stdout"
        },
        {
          "output_type": "display_data",
          "data": {
            "image/png": "[encoded data removed]",
            "text/plain": [
              "<Figure size 432x288 with 2 Axes>"
            ]
          },
          "metadata": {
            "tags": []
          }
        }
      ]
    },
    {
      "cell_type": "markdown",
      "metadata": {
        "id": "4hCyurfyMq7P",
        "colab_type": "text"
      },
      "source": [
        "### Question 1.7 (1 point)\n",
        "Interpret the heatmap of Question 1.6. Which of the following are correct?  \n",
        "Enter your answer as a comma-separated string without spaces, e.g. \"A,B,C\"\n",
        "- 'A': They perform equally well\n",
        "- 'B': Target encoding is slightly better\n",
        "- 'C': One-hot-encoding is slightly better\n",
        "- 'D': It depends on the algorithm.\n",
        "- 'E': No answer"
      ]
    },
    {
      "cell_type": "code",
      "metadata": {
        "id": "Igw_9YeTMq7S",
        "colab_type": "code",
        "colab": {}
      },
      "source": [
        "# Fill in the correct answers, e.g. 'A,B,C'. Don't change the name of the variable\n",
        "q_1_7 = 'C'"
      ],
      "execution_count": 0,
      "outputs": []
    },
    {
      "cell_type": "markdown",
      "metadata": {
        "id": "MpdQ3hKJMq7U",
        "colab_type": "text"
      },
      "source": [
        "### Question 1.8 (1 point)\n",
        "How many features are being constructed by the target encoder pipeline (i.e. on how many features is the classifier trained)?"
      ]
    },
    {
      "cell_type": "code",
      "metadata": {
        "id": "zBJbfl6aMq7V",
        "colab_type": "code",
        "colab": {}
      },
      "source": [
        "# Fill in the correct answer, should be an integer. Don't change the name of the variable\n",
        "q_1_8 = 59"
      ],
      "execution_count": 0,
      "outputs": []
    },
    {
      "cell_type": "markdown",
      "metadata": {
        "id": "1kuZNEQIMq7X",
        "colab_type": "text"
      },
      "source": [
        "## Part 2: Feature importance\n",
        "In this part, we will continue with your `flexible_pipeline`, and we use a random forest to learn which features\n",
        "are most important to predict the outcome of a dating 'match'. We will do this with both Random Forest's importance estimates and with permutation importance.\n"
      ]
    },
    {
      "cell_type": "markdown",
      "metadata": {
        "id": "Uhuy8S8x39eo",
        "colab_type": "text"
      },
      "source": [
        "### Question 2.1 (5 points)\n",
        "Implement a function `plot_2_1` that does the following:  \n",
        "* Split the data using a standard stratified and shuffled train-test split. Use `random_state=1`.\n",
        "* Combine your `flexible_pipeline`, without feature scaling but with one-hot-encoding, with a RandomForest classifier. Train that pipeline on the training set.\n",
        "* Remember that the categorical features where encoded. Retrieve their encoded names from the one-hot-encoder (with `get_feature_names`).\n",
        "* Retrieve the feature importances from the trained random forest and match them to the correct names. Depending on how you implemented your `flexible_pipeline` these are likely the first or the last columns in the processed dataset.\n",
        "* Compute the permutation importances given the random forest pipeline and the test set. Use `random_state=1` and at least 10 iterations.\n",
        "* Pass the tree-based and permutation importances to the plotting function `compare_importances` below."
      ]
    },
    {
      "cell_type": "code",
      "metadata": {
        "id": "JG19gBQmMq7X",
        "colab_type": "code",
        "colab": {}
      },
      "source": [
        "# Plotting function. Do not edit.\n",
        "def compare_importances(rf_importance, perm_importance, rf_feature_names, feature_names):\n",
        "  \"\"\" Compares the feature importances from random forest to permutation importance\\n\n",
        "  Keyword arguments:\\n\n",
        "  \\trf_importance -- The random forest's feature_importances_\n",
        "  \\tperm_importance -- The permutation importances as computed by sklearn.inspection.permutation_importance\n",
        "  \\trf_feature_names -- The names of the features received by the random forest, in the same order as their importances\n",
        "  \\tfeature_names -- The original features names in their original order\n",
        "  \"\"\"\n",
        "  topk = 30\n",
        "  # Trees\n",
        "  sorted_idx = rf_importance.argsort()[-topk:]\n",
        "  fig, ax = plt.subplots(nrows=1, ncols=2, figsize=(12, 6))\n",
        "  y_ticks = np.arange(0, topk)\n",
        "  ax[0].barh(y_ticks, rf_importance[sorted_idx])\n",
        "  ax[0].set_yticklabels(rf_feature_names[sorted_idx])\n",
        "  ax[0].set_yticks(y_ticks)\n",
        "  ax[0].set_title(\"Random Forest Feature Importances\")\n",
        "\n",
        "  # Permutations\n",
        "  sorted_idx = perm_importance.importances_mean.argsort()[-topk:]\n",
        "  ax[1].boxplot(perm_importance.importances[sorted_idx].T, vert=False, labels=feature_names[sorted_idx])\n",
        "  ax[1].set_title(\"Permutation Importances (test set)\")\n",
        "\n",
        "  fig.tight_layout()\n",
        "  plt.show()"
      ],
      "execution_count": 0,
      "outputs": []
    },
    {
      "cell_type": "code",
      "metadata": {
        "id": "fL4qE-q2Mq7Z",
        "colab_type": "code",
        "outputId": "d23b6cfe-1411-4cd4-b0e6-c884eab85d6a",
        "colab": {
          "base_uri": "https://localhost:8080/",
          "height": 441
        }
      },
      "source": [
        "from sklearn.model_selection import train_test_split\n",
        "from sklearn.ensemble import RandomForestClassifier\n",
        "from sklearn.inspection import permutation_importance\n",
        "\n",
        "def plot_2_1(X, y):\n",
        "  # split data\n",
        "  X_train, X_test, y_train, y_test = train_test_split(X, y, random_state=1, shuffle=True, stratify=y)\n",
        "  \n",
        "  # create pipeline\n",
        "  clf = flexible_pipeline(categorical, RandomForestClassifier(n_jobs=-1, random_state=1), scaler=None).fit(X_train, y_train)\n",
        "  \n",
        "  # retrieve names\n",
        "  encoded_names = clf.named_steps['preprocess'].named_transformers_['cat'].named_steps['encoder'].get_feature_names(input_features=categorical)\n",
        "  encoded_names = np.concatenate((encoded_names, numerical))\n",
        "  \n",
        "  # retrieve feature importance\n",
        "  clf_feature_importances = clf.named_steps['classifier'].feature_importances_\n",
        "  \n",
        "  # compute permutation importance\n",
        "  perm_importances = permutation_importance(clf, X_test, y_test, n_jobs=-1, random_state=1, n_repeats=10)\n",
        "  compare_importances(clf_feature_importances, perm_importances, encoded_names, X_test.columns)\n",
        "\n",
        "plot_2_1(X,y)"
      ],
      "execution_count": 62,
      "outputs": [
        {
          "output_type": "display_data",
          "data": {
            "image/png": "[encoded data removed]",
            "text/plain": [
              "<Figure size 864x432 with 2 Axes>"
            ]
          },
          "metadata": {
            "tags": []
          }
        }
      ]
    },
    {
      "cell_type": "markdown",
      "metadata": {
        "id": "wztyTv14Mq7b",
        "colab_type": "text"
      },
      "source": [
        "### Question 2.2 (1 point)\n",
        "Interpret the results of Question 2.1. Which of the following are correct?  \n",
        "Enter your answer as a comma-separated string without spaces, e.g. \"A,B,C\"\n",
        "- 'A': The topmost feature importances are roughly the same for both methods\n",
        "- 'B': The topmost feature importances are very different\n",
        "- 'C': Categorical features (race, race_o, field,...) are ranked higher in the random forest ranking\n",
        "- 'D': Categorical features are ranked lower in the random forest ranking\n",
        "- 'E': No answer"
      ]
    },
    {
      "cell_type": "code",
      "metadata": {
        "id": "1RZSpVjwMq7b",
        "colab_type": "code",
        "colab": {
          "base_uri": "https://localhost:8080/",
          "height": 34
        },
        "outputId": "fac1039f-edd5-4bb3-d8e4-7957e68beeaa"
      },
      "source": [
        "# Fill in the correct answers, e.g. 'A,B,C'. Don't change the name of the variable\n",
        "q_2_2 = 'A,D'"
      ],
      "execution_count": 63,
      "outputs": [
        {
          "output_type": "execute_result",
          "data": {
            "text/plain": [
              "['gender', 'race', 'race_o', 'samerace', 'field']"
            ]
          },
          "metadata": {
            "tags": []
          },
          "execution_count": 63
        }
      ]
    },
    {
      "cell_type": "markdown",
      "metadata": {
        "id": "JvXa_0nLMq7e",
        "colab_type": "text"
      },
      "source": [
        "## Part 3: Calibrating predictions\n"
      ]
    },
    {
      "cell_type": "markdown",
      "metadata": {
        "id": "cdCz90Na4EST",
        "colab_type": "text"
      },
      "source": [
        "### Question 3.1 (2 points)\n",
        "Use a grid search to optimize the RandomForest pipeline from question 2.1. Vary the number of trees from 100 to 1500 and `max_features` from\n",
        "0.05 to 0.1. Use at least 2 values for every hyperparameter. Evaluate all pipelines using AUC (area under the ROC curve) with 3-fold cross-validation. Compare all methods with the same cross-validation folds, shuffle the data and use `random_state=1`.\n",
        "Plot the results in a heatmap in function `plot_3_1`."
      ]
    },
    {
      "cell_type": "code",
      "metadata": {
        "id": "4dp9Bka5Mq7e",
        "colab_type": "code",
        "outputId": "c4769162-7146-4387-a821-26f1b373dc7f",
        "colab": {
          "base_uri": "https://localhost:8080/",
          "height": 322
        }
      },
      "source": [
        "from sklearn.model_selection import GridSearchCV, StratifiedShuffleSplit\n",
        "\n",
        "def plot_3_1(X, y):  \n",
        "  # pipeline\n",
        "  pipe = flexible_pipeline(categorical, RandomForestClassifier(n_jobs=-1, random_state=1), scaler=None)\n",
        "\n",
        "  # gridsearch\n",
        "  grid = {\n",
        "      \"classifier__n_estimators\": np.linspace(100, 1500, num=5, dtype=int),\n",
        "      \"classifier__max_features\": np.linspace(0.05, 0.1, num=5, dtype=float)\n",
        "  }\n",
        "  folds = StratifiedShuffleSplit(n_splits=3, random_state=1)\n",
        "  grid_search = GridSearchCV(pipe, grid, scoring=\"roc_auc\", n_jobs=-1, cv=folds)\n",
        "  grid_search.fit(X,y)\n",
        "\n",
        "  # heatmap\n",
        "  heatmap(grid['classifier__n_estimators'], grid['classifier__max_features'], grid_search.cv_results_['mean_test_score'].reshape(5,5))\n",
        "\n",
        "plot_3_1(X,y)"
      ],
      "execution_count": 52,
      "outputs": [
        {
          "output_type": "stream",
          "text": [
            "/usr/local/lib/python3.6/dist-packages/joblib/externals/loky/process_executor.py:706: UserWarning: A worker stopped while some jobs were given to the executor. This can be caused by a too short worker timeout or by a memory leak.\n",
            "  \"timeout or by a memory leak.\", UserWarning\n"
          ],
          "name": "stderr"
        },
        {
          "output_type": "display_data",
          "data": {
            "image/png": "[encoded data removed]",
            "text/plain": [
              "<Figure size 432x288 with 2 Axes>"
            ]
          },
          "metadata": {
            "tags": []
          }
        }
      ]
    },
    {
      "cell_type": "markdown",
      "metadata": {
        "id": "fic0U8udMq7g",
        "colab_type": "text"
      },
      "source": [
        "\n",
        "### Question 3.2 (2 points)\n",
        "Implement a function `plot_3_2` that plots the ROC curve for the Random Forest pipeline with `n_estimators=1000`.\n",
        "Also indicate the point on the curve that corresponds to the 0.5 probability decision threshold."
      ]
    },
    {
      "cell_type": "code",
      "metadata": {
        "id": "Vm-7fi2oMq7h",
        "colab_type": "code",
        "outputId": "d82dd9b2-e5ce-4158-b780-e449a2a63530",
        "colab": {
          "base_uri": "https://localhost:8080/",
          "height": 279
        }
      },
      "source": [
        "from sklearn.metrics import roc_curve\n",
        "\n",
        "def plot_3_2(X, y):\n",
        "  trsh_value = 0.5\n",
        "\n",
        "  #pipeline\n",
        "  X_train, X_test, y_train, y_test = train_test_split(X,y, stratify=y, random_state=1)\n",
        "  forest = RandomForestClassifier(random_state=1, n_estimators=1000, n_jobs=-1)\n",
        "  pipe = flexible_pipeline(categorical, forest, scaler=None).fit(X_train, y_train)\n",
        "\n",
        "  # ROC AUC curve data\n",
        "  fpr, tpr, thresholds = roc_curve(y_test, pipe.predict_proba(X_test)[:, 1])\n",
        "  \n",
        "  # find optimal threshold\n",
        "  # cost = [fpr[i]+(1-tpr[i])*2 for i in range(0, len(fpr))]\n",
        "  # indx_min = np.where(cost == np.min(cost))\n",
        "  # trsh_value = thresholds[list(indx_min)[0]] \n",
        "\n",
        "  #plot\n",
        "  plt.plot(fpr, tpr, label=\"ROC Curve RF\")\n",
        "  plt.xlabel(\"FPR\")\n",
        "  plt.ylabel(\"TPR (recall)\")\n",
        "  trsh_point = np.argmin(np.abs(thresholds - trsh_value))\n",
        "  plt.plot(fpr[trsh_point], tpr[trsh_point], '^', markersize=10, label=\"threshold {} RF\".format(trsh_value), fillstyle=\"none\", c='k', mew=2)\n",
        "  plt.legend(loc=4);\n",
        "\n",
        "plot_3_2(X,y)"
      ],
      "execution_count": 0,
      "outputs": [
        {
          "output_type": "display_data",
          "data": {
            "image/png": "[encoded data removed]",
            "text/plain": [
              "<Figure size 432x288 with 1 Axes>"
            ]
          },
          "metadata": {
            "tags": []
          }
        }
      ]
    },
    {
      "cell_type": "markdown",
      "metadata": {
        "id": "H5xuMyCGMq7i",
        "colab_type": "text"
      },
      "source": [
        "### Question 3.3 (2 points)\n",
        "Calibrate your model to get a higher recall. What would be the optimal decision threshold (approximately) assuming that a false negative (missing a good match) is twice as bad as a false positive (going on a date with someone who is not a good match)? The grade will depend on the distance to the actual optimum (within a tolerance)."
      ]
    },
    {
      "cell_type": "code",
      "metadata": {
        "id": "28AnoaeCMq7j",
        "colab_type": "code",
        "colab": {}
      },
      "source": [
        "# Fill in the correct answer, should be a float. Don't change the name of the variable\n",
        "q_3_3 = 0.137"
      ],
      "execution_count": 0,
      "outputs": []
    }
  ]
}